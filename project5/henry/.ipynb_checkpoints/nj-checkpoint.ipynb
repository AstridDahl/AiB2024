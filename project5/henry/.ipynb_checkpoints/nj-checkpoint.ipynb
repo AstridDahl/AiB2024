{
 "cells": [
  {
   "cell_type": "code",
   "execution_count": 1,
   "metadata": {},
   "outputs": [],
   "source": [
    "import numpy as np"
   ]
  },
  {
   "cell_type": "code",
   "execution_count": 2,
   "metadata": {},
   "outputs": [],
   "source": [
    "def read_control_file(file):\n",
    "    with open(file, 'r') as f:\n",
    "        lines = f.readlines()\n",
    "    # get the gap cost\n",
    "    gap_cost = float(lines[0].strip())\n",
    "    # get the alphabet\n",
    "    taxa = []\n",
    "    # get the scoring matrix\n",
    "    dist_mat = []\n",
    "    for line in lines[1:]:\n",
    "        line = line.strip().split()\n",
    "        taxa.append(line[0])\n",
    "        dist_mat.append([float(x) for x in line[1:]])\n",
    "    # make the alphabet lowercase\n",
    "    taxa = [x.lower() for x in taxa]\n",
    "    return gap_cost, taxa, np.array(dist_mat)\n",
    "\n"
   ]
  },
  {
   "cell_type": "code",
   "execution_count": 3,
   "metadata": {},
   "outputs": [],
   "source": [
    "# define a basic tree class, should have children and parents\n",
    "class Node:\n",
    "    def __init__(self, key):\n",
    "        self.key = key\n",
    "        self.children = []\n",
    "        self.parent = None\n",
    "        self.dist_to_parent = None\n",
    "    def add_child(self, child):\n",
    "        self.children.append(child)\n",
    "    # method to remove list of children\n",
    "    def remove_children(self, children):\n",
    "        for child in children:\n",
    "            self.children.remove(child)\n",
    "    def __repr__(self):\n",
    "        return str(self.key)\n"
   ]
  },
  {
   "cell_type": "code",
   "execution_count": 4,
   "metadata": {},
   "outputs": [],
   "source": [
    "import graphviz\n",
    "def show_tree(root):\n",
    "    dot = graphviz.Digraph()\n",
    "    dot.node(str(root.key))\n",
    "\n",
    "    def add_nodes_edges(node):\n",
    "        for child in node.children:\n",
    "            dot.node(str(child.key))\n",
    "            dot.edge(str(node.key), str(child.key), f'{child.dist_to_parent:.3f}')\n",
    "        for child in node.children:\n",
    "            add_nodes_edges(child)\n",
    "\n",
    "    add_nodes_edges(root)\n",
    "    return dot"
   ]
  },
  {
   "cell_type": "markdown",
   "metadata": {},
   "source": [
    "## NJ algorithm:\n",
    "#### Intialization\n",
    "1. let $S$ be the set of taxa\n",
    "2. each taxon $i \\in S$ is a leaf in the tree $T$\n",
    "3. let N be the distance matrix defining the distances between the taxa\n",
    "#### Recursion\n",
    "while $|S| >3$ do:\n",
    "1. select $i,j \\in S$ such that $N_{ij}$ is a minimum entry in $N$\n",
    "\n",
    "2. add edges $(k,i)$ and $(k,j)$ with weights $\\gamma(k,i) = \\frac 1 2 (d_{ij} + r_i - r_j)$ and $\\gamma(k,j) = d_{ij} - \\gamma(k,i) = \\frac 1 2 (d_{ij} + r_j -r_i)$ to tree $T$\n",
    "\n",
    "3. Update the dissimilary matrix by deleting the rows and coulmns corresponding to $i$ and $j$ and adding a new row and column for the new takxon $k$ with $d_{km}= \\frac 1 2 (d_{im} + d_{jm} - d_{ij})$ for all $m \\in (S - \\{i,j,k\\})$\n",
    "\n",
    "4. Delete $i$ and $j$ from $S$ and add the new artification taxon $k$ to S with its own identifier\n",
    "\n",
    "#### Termination\n",
    "Let $i,j,m$ be the three remaining taxa. Add a new internal node $v$ to the tree $T$ and add edges $(v,i)$, $(v,j)$, and $(v,m)$ to the tree $T$ with weights \n",
    "$$\\gamma(v,i) = \\frac{d_{ij} + d_{im} - d_{jm}}{2}$$\n",
    "\n",
    "$$\\gamma(v,j) = \\frac{d_{ij} + d_{jm} - d_{im}}{2}$$\n",
    "\n",
    "$$\\gamma(v,m) = \\frac{d_{im} + d_{jm} - d_{ij}}{2}$$\n"
   ]
  },
  {
   "cell_type": "markdown",
   "metadata": {},
   "source": [
    "## Steps:\n",
    "1. compute N\n",
    "2. get the index of a minimum entry\n",
    "3. add a node k\n",
    "4. add edges\n",
    "5. remove selected taxa from S, add k to s"
   ]
  },
  {
   "cell_type": "code",
   "execution_count": 18,
   "metadata": {},
   "outputs": [],
   "source": [
    "#### Helper functions \n",
    "# calculate_r: function to calculate the r value for a given node\n",
    "def calculate_r(i, D):\n",
    "    return D[i,:].sum() / (D.shape[0]-2)\n",
    "\n",
    "# def calculate_rj(j, D):\n",
    "#     return D[:,j].sum() / (D.shape[0]-2)\n",
    "\n",
    "# create_N: function to create the N matrix from the D matrix\n",
    "def create_N(D):\n",
    "    N = np.zeros(D.shape)\n",
    "    for i in range(D.shape[0]):\n",
    "        for j in range(D.shape[1]):\n",
    "                if i != j:\n",
    "                    N[i,j] = D[i,j] - (calculate_r(i, D) + calculate_r(j, D))\n",
    "    return N\n",
    "# update_D: function to update the D matrix given the minimum indices which will be removed\n",
    "def update_D(D, min_idx):\n",
    "    # Get the indices that are not in min_idx\n",
    "    not_min_idx = np.array([x for x in range(D.shape[0]) if x not in min_idx])\n",
    "    # Calculate the new distances\n",
    "    new_distances = 0.5 * (D[min_idx[0], not_min_idx] + D[min_idx[1], not_min_idx] \\\n",
    "                           - D[min_idx[0], min_idx[1]])\n",
    "    # Create the new distance matrix by selecting the rows and columns not in min_idx\n",
    "    D_new = D[np.ix_(not_min_idx, not_min_idx)]\n",
    "    # Add the new distances to the last row and column\n",
    "    D_new = np.block([[D_new, new_distances.reshape(-1, 1)], [new_distances, 0]])\n",
    "    return D_new\n",
    "\n",
    "# tree_to_newick: takes the tree output from nj and converts it \n",
    "# to a newick format string representation\n",
    "def tree_to_newick(node):\n",
    "    if len(node.children) == 0:\n",
    "        return node.key\n",
    "    else:\n",
    "        return f\"({','.join([tree_to_newick(x) + \\\n",
    "                             f':{abs(x.dist_to_parent):.3f}' for x in node.children])})\" \n"
   ]
  },
  {
   "cell_type": "code",
   "execution_count": 25,
   "metadata": {
    "scrolled": true
   },
   "outputs": [
    {
     "name": "stdout",
     "output_type": "stream",
     "text": [
      "5\n",
      "[[0.   0.23 0.16 0.2  0.17]\n",
      " [0.23 0.   0.23 0.17 0.24]\n",
      " [0.16 0.23 0.   0.2  0.11]\n",
      " [0.2  0.17 0.2  0.   0.21]\n",
      " [0.17 0.24 0.11 0.21 0.  ]]\n",
      "[[ 0.         -0.31333333 -0.32666667 -0.31333333 -0.32666667]\n",
      " [-0.31333333  0.         -0.29333333 -0.38       -0.29333333]\n",
      " [-0.32666667 -0.29333333  0.         -0.29333333 -0.36666667]\n",
      " [-0.31333333 -0.38       -0.29333333  0.         -0.29333333]\n",
      " [-0.32666667 -0.29333333 -0.36666667 -0.29333333  0.        ]]\n"
     ]
    }
   ],
   "source": [
    "gap_cost, S, D = read_control_file('test_dist_mats/example_slide4.phy')\n",
    "print(len(S))\n",
    "print(D)\n",
    "print(create_N(D))"
   ]
  },
  {
   "cell_type": "code",
   "execution_count": 30,
   "metadata": {},
   "outputs": [
    {
     "name": "stdout",
     "output_type": "stream",
     "text": [
      "-0.3666666666666667\n"
     ]
    }
   ],
   "source": [
    "r_2 = (0.16 + 0.23 + 0.2 + 0.11)/3\n",
    "r_4 = (0.17 + 0.24 + 0.11 + 0.21)/3\n",
    "d_24 = 0.11\n",
    "n_24 = d_24 - (r_2 + r_4)\n",
    "print(n_24)"
   ]
  },
  {
   "cell_type": "code",
   "execution_count": 31,
   "metadata": {},
   "outputs": [
    {
     "name": "stdout",
     "output_type": "stream",
     "text": [
      "-0.38\n"
     ]
    }
   ],
   "source": [
    "r_1 = (0.23 + 0.23 + 0.17 + 0.24)/3\n",
    "r_3 = (0.2 + 0.17 +0.2 + 0.21)/3\n",
    "d_13 = 0.17\n",
    "n_13 = d_13 - (r_1 + r_3)\n",
    "print(n_13)"
   ]
  },
  {
   "cell_type": "code",
   "execution_count": 349,
   "metadata": {
    "jupyter": {
     "source_hidden": true
    }
   },
   "outputs": [],
   "source": [
    "# def update_D_slow(D, min_idx):\n",
    "#     # remove the min_idx rows and columns\n",
    "#     D_new = D[np.ix_([x for x in range(D.shape[0]) if x not in min_idx], [x for x in range(D.shape[1]) if x not in min_idx])]\n",
    "#     # add the new taxa (k) to the distance matrix, initialize with zeros\n",
    "#     D_new = np.vstack([D_new, np.zeros(D_new.shape[0])])\n",
    "#     D_new = np.hstack([D_new, np.zeros((D_new.shape[0],1))])\n",
    "#     # fill in the new row and column\n",
    "#     i = [x for x in range(D.shape[0]) if x not in min_idx]\n",
    "#     D_new[:-1,-1] = (D[min_idx[0],i] + D[min_idx[1],i] - D[min_idx[0],min_idx[1]])/2\n",
    "#     D_new[-1,:] = D_new[:,-1]\n",
    "#     return D_new\n",
    "\n",
    "# D_new = update_D(D, min_idx)\n",
    "# print(D_new)"
   ]
  },
  {
   "cell_type": "code",
   "execution_count": 15,
   "metadata": {},
   "outputs": [],
   "source": [
    "def nj(path):\n",
    "    # read in the data\n",
    "    gap_cost, S, D = read_control_file(path)\n",
    "\n",
    "    # initialize the tree with the taxa\n",
    "    tree = Node('pseudo_root')\n",
    "    for s in S:\n",
    "        node = Node(s)\n",
    "        node.parent = tree\n",
    "        tree.add_child(node)\n",
    "    while len(S) > 3:\n",
    "        # create the N matrix\n",
    "        N = create_N(D)\n",
    "        print(N)\n",
    "        # based on S, create the dictionaries to go back and forth between indices and taxa names\n",
    "        stoi = {s:i for i,s in enumerate(S)}\n",
    "        itos = {i:s for s,i in stoi.items()}\n",
    "        # get the index of the minimum value in the N matrix, excluding the diagonal\n",
    "        min_idx = np.unravel_index(np.argmin(N + np.eye(N.shape[0])*np.max(N)), N.shape)\n",
    "        # min_idx = np.unravel_index(np.argmin(D + np.eye(D.shape[0])*np.max(D)), D.shape)\n",
    "        # taxa names of the minimum indices according to N\n",
    "        min_taxa = [itos[x] for x in min_idx]\n",
    "        print(min_taxa)\n",
    "        # TREE CREATION\n",
    "        # add a new node to the tree with the joined taxa\n",
    "        new_node = Node(f\"{min_taxa[0]}{min_taxa[1]}\")\n",
    "        # define nodes for the min_taxa, which will be children of the joined node\n",
    "        # they could already be nodes with children\n",
    "        child1 = [x for x in tree.children if x.key == min_taxa[0]][0]\n",
    "        child2 = [x for x in tree.children if x.key == min_taxa[1]][0]\n",
    "        # assign the parent of the children\n",
    "        child1.parent = new_node\n",
    "        child2.parent = new_node\n",
    "        # assign their distances to the parent (joined node)\n",
    "        child1.dist_to_parent = 0.5*(D[stoi[min_taxa[0]], stoi[min_taxa[1]]] \\\n",
    "                                    + calculate_r(stoi[min_taxa[0]], D) \\\n",
    "                                    - calculate_r(stoi[min_taxa[1]], D))\n",
    "        child2.dist_to_parent = D[stoi[min_taxa[0]], stoi[min_taxa[1]]] \\\n",
    "                                - child1.dist_to_parent\n",
    "        # add the children to the new node\n",
    "        new_node.add_child(child1)\n",
    "        new_node.add_child(child2)\n",
    "        # add the new node to the top level of the tree\n",
    "        tree.add_child(new_node)\n",
    "        # remove the nodes corresponding to the joined taxa\n",
    "        tree.remove_children([x for x in tree.children if x.key in min_taxa])\n",
    "        D = update_D(D, min_idx)\n",
    "        # add the new node to the list of taxa\n",
    "        S.append(new_node.key)\n",
    "        S = [x for x in S if x not in min_taxa]\n",
    "    # termination: assign the distances between the last three nodes and the root\n",
    "    stoi = {s:i for i,s in enumerate(S)}\n",
    "    itos = {i:s for s,i in stoi.items()}\n",
    "    tree.children[0].dist_to_parent = 0.5*(D[stoi[tree.children[0].key], stoi[tree.children[1].key]] \\\n",
    "                                        + D[stoi[tree.children[0].key], stoi[tree.children[2].key]] \\\n",
    "                                            - D[stoi[tree.children[1].key], stoi[tree.children[2].key]])\n",
    "    tree.children[1].dist_to_parent = 0.5*(D[stoi[tree.children[0].key], stoi[tree.children[1].key]] \\\n",
    "                                        + D[stoi[tree.children[1].key], stoi[tree.children[2].key]] \\\n",
    "                                            - D[stoi[tree.children[0].key], stoi[tree.children[2].key]])\n",
    "    tree.children[2].dist_to_parent = 0.5*(D[stoi[tree.children[0].key], stoi[tree.children[2].key]] \\\n",
    "                                        + D[stoi[tree.children[1].key], stoi[tree.children[2].key]] \\\n",
    "                                            - D[stoi[tree.children[0].key], stoi[tree.children[1].key]])\n",
    "    return tree"
   ]
  },
  {
   "cell_type": "code",
   "execution_count": 16,
   "metadata": {},
   "outputs": [
    {
     "name": "stdout",
     "output_type": "stream",
     "text": [
      "[[ 0.         -0.31333333 -0.32666667 -0.31333333 -0.32666667]\n",
      " [-0.31333333  0.         -0.29333333 -0.38       -0.29333333]\n",
      " [-0.32666667 -0.29333333  0.         -0.29333333 -0.36666667]\n",
      " [-0.31333333 -0.38       -0.29333333  0.         -0.29333333]\n",
      " [-0.32666667 -0.29333333 -0.36666667 -0.29333333  0.        ]]\n",
      "['b', 'd']\n",
      "[[ 0.   -0.27 -0.27 -0.3 ]\n",
      " [-0.27  0.   -0.3  -0.27]\n",
      " [-0.27 -0.3   0.   -0.27]\n",
      " [-0.3  -0.27 -0.27  0.  ]]\n",
      "['c', 'e']\n"
     ]
    }
   ],
   "source": [
    "# tree = nj('./unique_distance_matrices/89_Adeno_E3_CR1.phy')\n",
    "tree = nj('test_dist_mats/dist_mat.phy')"
   ]
  },
  {
   "cell_type": "code",
   "execution_count": 17,
   "metadata": {},
   "outputs": [
    {
     "data": {
      "image/svg+xml": [
       "<?xml version=\"1.0\" encoding=\"UTF-8\" standalone=\"no\"?>\n",
       "<!DOCTYPE svg PUBLIC \"-//W3C//DTD SVG 1.1//EN\"\n",
       " \"http://www.w3.org/Graphics/SVG/1.1/DTD/svg11.dtd\">\n",
       "<!-- Generated by graphviz version 2.50.0 (0)\n",
       " -->\n",
       "<!-- Pages: 1 -->\n",
       "<svg width=\"278pt\" height=\"218pt\"\n",
       " viewBox=\"0.00 0.00 278.00 218.00\" xmlns=\"http://www.w3.org/2000/svg\" xmlns:xlink=\"http://www.w3.org/1999/xlink\">\n",
       "<g id=\"graph0\" class=\"graph\" transform=\"scale(1 1) rotate(0) translate(4 214)\">\n",
       "<polygon fill=\"white\" stroke=\"transparent\" points=\"-4,4 -4,-214 274,-214 274,4 -4,4\"/>\n",
       "<!-- pseudo_root -->\n",
       "<g id=\"node1\" class=\"node\">\n",
       "<title>pseudo_root</title>\n",
       "<ellipse fill=\"none\" stroke=\"black\" cx=\"99\" cy=\"-192\" rx=\"53.89\" ry=\"18\"/>\n",
       "<text text-anchor=\"middle\" x=\"99\" y=\"-188.3\" font-family=\"Times,serif\" font-size=\"14.00\">pseudo_root</text>\n",
       "</g>\n",
       "<!-- a -->\n",
       "<g id=\"node2\" class=\"node\">\n",
       "<title>a</title>\n",
       "<ellipse fill=\"none\" stroke=\"black\" cx=\"27\" cy=\"-105\" rx=\"27\" ry=\"18\"/>\n",
       "<text text-anchor=\"middle\" x=\"27\" y=\"-101.3\" font-family=\"Times,serif\" font-size=\"14.00\">a</text>\n",
       "</g>\n",
       "<!-- pseudo_root&#45;&gt;a -->\n",
       "<g id=\"edge1\" class=\"edge\">\n",
       "<title>pseudo_root&#45;&gt;a</title>\n",
       "<path fill=\"none\" stroke=\"black\" d=\"M81.74,-174.75C75.91,-169 69.5,-162.38 64,-156 56.99,-147.86 49.84,-138.5 43.72,-130.1\"/>\n",
       "<polygon fill=\"black\" stroke=\"black\" points=\"46.43,-127.87 37.76,-121.77 40.74,-131.94 46.43,-127.87\"/>\n",
       "<text text-anchor=\"middle\" x=\"79.5\" y=\"-144.8\" font-family=\"Times,serif\" font-size=\"14.00\">0.080</text>\n",
       "</g>\n",
       "<!-- bd -->\n",
       "<g id=\"node3\" class=\"node\">\n",
       "<title>bd</title>\n",
       "<ellipse fill=\"none\" stroke=\"black\" cx=\"99\" cy=\"-105\" rx=\"27\" ry=\"18\"/>\n",
       "<text text-anchor=\"middle\" x=\"99\" y=\"-101.3\" font-family=\"Times,serif\" font-size=\"14.00\">bd</text>\n",
       "</g>\n",
       "<!-- pseudo_root&#45;&gt;bd -->\n",
       "<g id=\"edge2\" class=\"edge\">\n",
       "<title>pseudo_root&#45;&gt;bd</title>\n",
       "<path fill=\"none\" stroke=\"black\" d=\"M99,-173.8C99,-162.16 99,-146.55 99,-133.24\"/>\n",
       "<polygon fill=\"black\" stroke=\"black\" points=\"102.5,-133.18 99,-123.18 95.5,-133.18 102.5,-133.18\"/>\n",
       "<text text-anchor=\"middle\" x=\"114.5\" y=\"-144.8\" font-family=\"Times,serif\" font-size=\"14.00\">0.050</text>\n",
       "</g>\n",
       "<!-- ce -->\n",
       "<g id=\"node4\" class=\"node\">\n",
       "<title>ce</title>\n",
       "<ellipse fill=\"none\" stroke=\"black\" cx=\"171\" cy=\"-105\" rx=\"27\" ry=\"18\"/>\n",
       "<text text-anchor=\"middle\" x=\"171\" y=\"-101.3\" font-family=\"Times,serif\" font-size=\"14.00\">ce</text>\n",
       "</g>\n",
       "<!-- pseudo_root&#45;&gt;ce -->\n",
       "<g id=\"edge3\" class=\"edge\">\n",
       "<title>pseudo_root&#45;&gt;ce</title>\n",
       "<path fill=\"none\" stroke=\"black\" d=\"M116.26,-174.75C122.09,-169 128.5,-162.38 134,-156 141.01,-147.86 148.16,-138.5 154.28,-130.1\"/>\n",
       "<polygon fill=\"black\" stroke=\"black\" points=\"157.26,-131.94 160.24,-121.77 151.57,-127.87 157.26,-131.94\"/>\n",
       "<text text-anchor=\"middle\" x=\"160.5\" y=\"-144.8\" font-family=\"Times,serif\" font-size=\"14.00\">0.030</text>\n",
       "</g>\n",
       "<!-- b -->\n",
       "<g id=\"node5\" class=\"node\">\n",
       "<title>b</title>\n",
       "<ellipse fill=\"none\" stroke=\"black\" cx=\"27\" cy=\"-18\" rx=\"27\" ry=\"18\"/>\n",
       "<text text-anchor=\"middle\" x=\"27\" y=\"-14.3\" font-family=\"Times,serif\" font-size=\"14.00\">b</text>\n",
       "</g>\n",
       "<!-- bd&#45;&gt;b -->\n",
       "<g id=\"edge4\" class=\"edge\">\n",
       "<title>bd&#45;&gt;b</title>\n",
       "<path fill=\"none\" stroke=\"black\" d=\"M83.85,-89.82C77.5,-83.63 70.17,-76.16 64,-69 56.99,-60.86 49.84,-51.5 43.72,-43.1\"/>\n",
       "<polygon fill=\"black\" stroke=\"black\" points=\"46.43,-40.87 37.76,-34.77 40.74,-44.94 46.43,-40.87\"/>\n",
       "<text text-anchor=\"middle\" x=\"79.5\" y=\"-57.8\" font-family=\"Times,serif\" font-size=\"14.00\">0.100</text>\n",
       "</g>\n",
       "<!-- d -->\n",
       "<g id=\"node6\" class=\"node\">\n",
       "<title>d</title>\n",
       "<ellipse fill=\"none\" stroke=\"black\" cx=\"99\" cy=\"-18\" rx=\"27\" ry=\"18\"/>\n",
       "<text text-anchor=\"middle\" x=\"99\" y=\"-14.3\" font-family=\"Times,serif\" font-size=\"14.00\">d</text>\n",
       "</g>\n",
       "<!-- bd&#45;&gt;d -->\n",
       "<g id=\"edge5\" class=\"edge\">\n",
       "<title>bd&#45;&gt;d</title>\n",
       "<path fill=\"none\" stroke=\"black\" d=\"M99,-86.8C99,-75.16 99,-59.55 99,-46.24\"/>\n",
       "<polygon fill=\"black\" stroke=\"black\" points=\"102.5,-46.18 99,-36.18 95.5,-46.18 102.5,-46.18\"/>\n",
       "<text text-anchor=\"middle\" x=\"114.5\" y=\"-57.8\" font-family=\"Times,serif\" font-size=\"14.00\">0.070</text>\n",
       "</g>\n",
       "<!-- c -->\n",
       "<g id=\"node7\" class=\"node\">\n",
       "<title>c</title>\n",
       "<ellipse fill=\"none\" stroke=\"black\" cx=\"171\" cy=\"-18\" rx=\"27\" ry=\"18\"/>\n",
       "<text text-anchor=\"middle\" x=\"171\" y=\"-14.3\" font-family=\"Times,serif\" font-size=\"14.00\">c</text>\n",
       "</g>\n",
       "<!-- ce&#45;&gt;c -->\n",
       "<g id=\"edge6\" class=\"edge\">\n",
       "<title>ce&#45;&gt;c</title>\n",
       "<path fill=\"none\" stroke=\"black\" d=\"M171,-86.8C171,-75.16 171,-59.55 171,-46.24\"/>\n",
       "<polygon fill=\"black\" stroke=\"black\" points=\"174.5,-46.18 171,-36.18 167.5,-46.18 174.5,-46.18\"/>\n",
       "<text text-anchor=\"middle\" x=\"186.5\" y=\"-57.8\" font-family=\"Times,serif\" font-size=\"14.00\">0.050</text>\n",
       "</g>\n",
       "<!-- e -->\n",
       "<g id=\"node8\" class=\"node\">\n",
       "<title>e</title>\n",
       "<ellipse fill=\"none\" stroke=\"black\" cx=\"243\" cy=\"-18\" rx=\"27\" ry=\"18\"/>\n",
       "<text text-anchor=\"middle\" x=\"243\" y=\"-14.3\" font-family=\"Times,serif\" font-size=\"14.00\">e</text>\n",
       "</g>\n",
       "<!-- ce&#45;&gt;e -->\n",
       "<g id=\"edge7\" class=\"edge\">\n",
       "<title>ce&#45;&gt;e</title>\n",
       "<path fill=\"none\" stroke=\"black\" d=\"M186.15,-89.82C192.5,-83.63 199.83,-76.16 206,-69 213.01,-60.86 220.16,-51.5 226.28,-43.1\"/>\n",
       "<polygon fill=\"black\" stroke=\"black\" points=\"229.26,-44.94 232.24,-34.77 223.57,-40.87 229.26,-44.94\"/>\n",
       "<text text-anchor=\"middle\" x=\"232.5\" y=\"-57.8\" font-family=\"Times,serif\" font-size=\"14.00\">0.060</text>\n",
       "</g>\n",
       "</g>\n",
       "</svg>\n"
      ],
      "text/plain": [
       "<graphviz.graphs.Digraph at 0x1140c9880>"
      ]
     },
     "execution_count": 17,
     "metadata": {},
     "output_type": "execute_result"
    }
   ],
   "source": [
    "show_tree(tree)"
   ]
  },
  {
   "cell_type": "code",
   "execution_count": 602,
   "metadata": {},
   "outputs": [
    {
     "data": {
      "text/plain": [
       "'(c:0.050,e:0.060,(a:0.080,(b:0.100,d:0.070):0.050):0.030);'"
      ]
     },
     "execution_count": 602,
     "metadata": {},
     "output_type": "execute_result"
    }
   ],
   "source": [
    "\n",
    "    \n",
    "tree_to_newick(tree) + ';'"
   ]
  },
  {
   "cell_type": "code",
   "execution_count": 565,
   "metadata": {},
   "outputs": [
    {
     "name": "stdout",
     "output_type": "stream",
     "text": [
      "['a', 'b', 'c', 'd', 'e']\n",
      "[[0.   0.   0.   0.   0.  ]\n",
      " [0.23 0.   0.   0.   0.  ]\n",
      " [0.16 0.23 0.   0.   0.  ]\n",
      " [0.2  0.17 0.2  0.   0.  ]\n",
      " [0.17 0.24 0.11 0.21 0.  ]]\n"
     ]
    },
    {
     "ename": "ValueError",
     "evalue": "'matrix' should be in lower triangle format",
     "output_type": "error",
     "traceback": [
      "\u001b[0;31m---------------------------------------------------------------------------\u001b[0m",
      "\u001b[0;31mValueError\u001b[0m                                Traceback (most recent call last)",
      "Cell \u001b[0;32mIn[565], line 8\u001b[0m\n\u001b[1;32m      6\u001b[0m \u001b[38;5;28mprint\u001b[39m(np\u001b[38;5;241m.\u001b[39mtril(D))\n\u001b[1;32m      7\u001b[0m \u001b[38;5;66;03m# convert the distance matrix to a biopython distance matrix\u001b[39;00m\n\u001b[0;32m----> 8\u001b[0m biopython_D \u001b[38;5;241m=\u001b[39m \u001b[43mDistanceMatrix\u001b[49m\u001b[43m(\u001b[49m\u001b[43mS\u001b[49m\u001b[43m,\u001b[49m\u001b[43m \u001b[49m\u001b[43mnp\u001b[49m\u001b[38;5;241;43m.\u001b[39;49m\u001b[43mtril\u001b[49m\u001b[43m(\u001b[49m\u001b[43mD\u001b[49m\u001b[43m)\u001b[49m\u001b[38;5;241;43m.\u001b[39;49m\u001b[43mtolist\u001b[49m\u001b[43m(\u001b[49m\u001b[43m)\u001b[49m\u001b[43m)\u001b[49m\n",
      "File \u001b[0;32m~/opt/anaconda3/envs/aib/lib/python3.12/site-packages/Bio/Phylo/TreeConstruction.py:318\u001b[0m, in \u001b[0;36mDistanceMatrix.__init__\u001b[0;34m(self, names, matrix)\u001b[0m\n\u001b[1;32m    316\u001b[0m \u001b[38;5;28;01mdef\u001b[39;00m \u001b[38;5;21m__init__\u001b[39m(\u001b[38;5;28mself\u001b[39m, names, matrix\u001b[38;5;241m=\u001b[39m\u001b[38;5;28;01mNone\u001b[39;00m):\n\u001b[1;32m    317\u001b[0m \u001b[38;5;250m    \u001b[39m\u001b[38;5;124;03m\"\"\"Initialize the class.\"\"\"\u001b[39;00m\n\u001b[0;32m--> 318\u001b[0m     \u001b[43m_Matrix\u001b[49m\u001b[38;5;241;43m.\u001b[39;49m\u001b[38;5;21;43m__init__\u001b[39;49m\u001b[43m(\u001b[49m\u001b[38;5;28;43mself\u001b[39;49m\u001b[43m,\u001b[49m\u001b[43m \u001b[49m\u001b[43mnames\u001b[49m\u001b[43m,\u001b[49m\u001b[43m \u001b[49m\u001b[43mmatrix\u001b[49m\u001b[43m)\u001b[49m\n\u001b[1;32m    319\u001b[0m     \u001b[38;5;28mself\u001b[39m\u001b[38;5;241m.\u001b[39m_set_zero_diagonal()\n",
      "File \u001b[0;32m~/opt/anaconda3/envs/aib/lib/python3.12/site-packages/Bio/Phylo/TreeConstruction.py:119\u001b[0m, in \u001b[0;36m_Matrix.__init__\u001b[0;34m(self, names, matrix)\u001b[0m\n\u001b[1;32m    117\u001b[0m         \u001b[38;5;28mself\u001b[39m\u001b[38;5;241m.\u001b[39mmatrix \u001b[38;5;241m=\u001b[39m matrix\n\u001b[1;32m    118\u001b[0m     \u001b[38;5;28;01melse\u001b[39;00m:\n\u001b[0;32m--> 119\u001b[0m         \u001b[38;5;28;01mraise\u001b[39;00m \u001b[38;5;167;01mValueError\u001b[39;00m(\u001b[38;5;124m\"\u001b[39m\u001b[38;5;124m'\u001b[39m\u001b[38;5;124mmatrix\u001b[39m\u001b[38;5;124m'\u001b[39m\u001b[38;5;124m should be in lower triangle format\u001b[39m\u001b[38;5;124m\"\u001b[39m)\n\u001b[1;32m    120\u001b[0m \u001b[38;5;28;01melse\u001b[39;00m:\n\u001b[1;32m    121\u001b[0m     \u001b[38;5;28;01mraise\u001b[39;00m \u001b[38;5;167;01mValueError\u001b[39;00m(\u001b[38;5;124m\"\u001b[39m\u001b[38;5;124m'\u001b[39m\u001b[38;5;124mnames\u001b[39m\u001b[38;5;124m'\u001b[39m\u001b[38;5;124m and \u001b[39m\u001b[38;5;124m'\u001b[39m\u001b[38;5;124mmatrix\u001b[39m\u001b[38;5;124m'\u001b[39m\u001b[38;5;124m should be the same size\u001b[39m\u001b[38;5;124m\"\u001b[39m)\n",
      "\u001b[0;31mValueError\u001b[0m: 'matrix' should be in lower triangle format"
     ]
    }
   ],
   "source": [
    "# convert D to a biopython distance matrix\n",
    "from Bio.Phylo.TreeConstruction import DistanceMatrix\n",
    "from Bio.Phylo.TreeConstruction import DistanceTreeConstructor\n",
    "from Bio import Phylo\n",
    "print(S)\n",
    "print(np.tril(D))\n",
    "# convert the distance matrix to a biopython distance matrix\n",
    "biopython_D = DistanceMatrix(S, np.tril(D).tolist())"
   ]
  },
  {
   "cell_type": "code",
   "execution_count": 597,
   "metadata": {},
   "outputs": [],
   "source": [
    "from io import StringIO\n",
    "tree_bp = Phylo.read(StringIO(tree_to_newick(tree) + ';'), 'newick')\n"
   ]
  },
  {
   "cell_type": "code",
   "execution_count": 598,
   "metadata": {},
   "outputs": [
    {
     "name": "stdout",
     "output_type": "stream",
     "text": [
      "  ____________________________________________________ b\n",
      " |\n",
      "_|____________________________________ d\n",
      " |\n",
      " |                          __________________________________________ a\n",
      " |_________________________|\n",
      "                           |                __________________________ c\n",
      "                           |_______________|\n",
      "                                           |________________________________ e\n",
      "\n"
     ]
    }
   ],
   "source": [
    "Phylo.draw_ascii(tree_bp)"
   ]
  },
  {
   "cell_type": "code",
   "execution_count": null,
   "metadata": {},
   "outputs": [],
   "source": []
  }
 ],
 "metadata": {
  "kernelspec": {
   "display_name": "Python 3 (ipykernel)",
   "language": "python",
   "name": "python3"
  },
  "language_info": {
   "codemirror_mode": {
    "name": "ipython",
    "version": 3
   },
   "file_extension": ".py",
   "mimetype": "text/x-python",
   "name": "python",
   "nbconvert_exporter": "python",
   "pygments_lexer": "ipython3",
   "version": "3.12.1"
  }
 },
 "nbformat": 4,
 "nbformat_minor": 4
}

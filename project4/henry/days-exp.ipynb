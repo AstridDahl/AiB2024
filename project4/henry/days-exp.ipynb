{
 "cells": [
  {
   "cell_type": "markdown",
   "metadata": {},
   "source": [
    "## Project Statement\n",
    "You should implement an algorithm for computing the RF distance between two unrooted evolutionary trees over the same set of species. The algorithm can e.g. be Day's algorithm as explained in class. You should make a program called rfdist which as input takes two evolutionary trees in Newick format (also referred to as 'New Hampshire format'), and outputs the RF distance between them.\n",
    "\n",
    "The archive testdata.zip contains two trees with RF-distance 8. These can e.g. be used for testing.\n",
    "## Experiment\n",
    "\n",
    "The programs QuickTree and RapidNJ are implementations of the NJ methods. QuickTree implements the basic cubic time algorithm while RapidNJ implements an algorithm the is faster in practice. You might want to take a look at the QuickTree paper and the RapidNJ paper.\n",
    "\n",
    "Downloading quicktree_2.0.tar.gz and rapidnj-src-2.3.2.zip and compiling on a Linux-platform is straightforward (just run 'make'). \n",
    "\n",
    "The file patbase_aibtas.fasta contains 395 protein sequences from the P-Type ATPase Database in Fasta-format.\n",
    "\n",
    "You should make an experiment where you first construct a number of trees for these 395 sequences using NJ (as implemented in QuickTree and RapidNJ) based on different multiple alignments of the 395 sequences, and secondly, compare the construted trees using your program rfdist in order to investigate the influence of using different multiple alignment methods and tree reconstruction methods. Biologically, the 395 sequences are grouped into five groups. The group which a sequenence belongs to is indicated by the first character (1-5) in its name in Fasta-file. If you visualize your constructed trees using e.g. the program Dendroscope, you might want to inspect to what extend sequences from one group are in the same subtree.\n",
    "\n",
    "The alignment methods you most use are:\n",
    "\n",
    "Clustal Omega: https://www.ebi.ac.uk/jdispatcher/msa/clustalo\n",
    "\n",
    "Kalign: https://www.ebi.ac.uk/jdispatcher/msa/kalign\n",
    "\n",
    "MUSCLE: https://www.ebi.ac.uk/jdispatcher/msa/muscle\n",
    "\n",
    "You should use the default parameters of each program. Beware of the output format. QuickTree can only read multiple alignments in Stockholm-format, and RapidNJ can read multiple alignments in both Fasta- and single line Stockholm-format.\n",
    "\n",
    "Converting to Stockholm-format: You can use the online converter available at http://hcv.lanl.gov/content/sequence/FORMAT_CONVERSION/form.html to convert different alignment formats to Stockholm- and Fasta-format. To convert to single line Stockholm-format, you must set the 'Output line width' to 'as wide as possible'. Update (Apr 2021): It seems that QuickTree 2.0 cannot read the Stockholm-format produced by the online converter. The problem is that the Stockholm-file constructed by the online converter starts with the line \"# STOCKHOLM 1.0\" follow by an empty line. If you remove these two lines, then QuickTree 2.0 can read the file. I do not know when this \"bug\" was introduced, but it used to work ;-)\n",
    "\n",
    "*Experiment 1:* For each alignment method (Clustal Omega, Kalign, MUSCLE), you build a NJ tree using QuickTree and RapidNJ, and compute the RF-distance between each combination of these six trees. The outcome of your experiment, is an 6x6 table showing the RF-distance between each pair of constructed trees. (You might want to use the program Dendroscope to visualize the constructed trees.)\n",
    "\n",
    "*Experiment 2:* Redo the above experiment where you use 395 input sequences in patbase_aibtas_permuted.fasta. This yields another 6x6 table.\n",
    "\n",
    "*Experiment 3:* Compute the RF-distance between the trees produced in 'Experiment 1' and 'Experiment 2' using the same alignment and tree reconstruction method. This yields 6 distances.\n",
    "\n",
    "Note: Depending on your Newick-parser, you might have problems comparing trees constructed by QuickTree and RapidNJ. The reason is that RapidNJ encloses the leaf names in apostrophes, while QuickTree does not. See e.g. these examples of a QuickTree newick output (quicktree.newick) and a RapidNJ newick output (rapidnj.newick) with names enclosed in apostrophes. It is easy to solve the problem by removing all apostrophes from the RapidNJ output. On a Unix-system like Linux or Mac OS X, you can easily do this by piping the output of RapidNJ through sed like this: rapidnj -i sth somealignment.stockholm | sed -e \"s/'//g\" > tree_without_apostrophes.newick\n",
    "\n",
    "## Report\n",
    "\n",
    "You (i.e. your group) must hand in a report (in pdf-format) and your implementation of rfdist (in a zip-archive) via Brightspace no later than Tuesday, April 16, 2024, at 23:59. Your report should be no more than 3 pages, and must cover:\n",
    "\n",
    "Status of your work.\n",
    "\n",
    "A short description of your implementation of rfdist, explaning what algorithm you implemented, how you read in trees in Newick-format, how you validated the correctness of your implementation, and how to access and run your program rfdist.\n",
    "References to the 6 alignments (in Stockholm-format) and trees (in Newick-format) that you have produced in Experiment 1 and 2.\n",
    "Your results of Experiment 1-3, i.e. an 6x6 table showing the RF-distance between each pair of constructed trees based on the patbase_aibtas.fasta, an 6x6 table showing the RF-distance between each pair of constructed trees based on the patbase_aibtas_permuted.fasta, and a 1x6 table showing the RF-distance between the trees constructed based on the same alignment and NJ method for normal and the permuted dataset. Comment on your results. Is everything as expected, or are you surprised?\n"
   ]
  },
  {
   "cell_type": "markdown",
   "metadata": {},
   "source": [
    "## Day's algorithm "
   ]
  },
  {
   "cell_type": "code",
   "execution_count": 77,
   "metadata": {},
   "outputs": [],
   "source": [
    "from Bio import Phylo\n",
    "tree1 = Phylo.read(\"../Testdata/tree1.new\", \"newick\")\n",
    "tree2 = Phylo.read(\"../Testdata/tree2.new\", \"newick\")"
   ]
  },
  {
   "cell_type": "code",
   "execution_count": 78,
   "metadata": {},
   "outputs": [
    {
     "data": {
      "image/png": "[encoded data removed]",
      "text/plain": [
       "<Figure size 1100x800 with 1 Axes>"
      ]
     },
     "metadata": {},
     "output_type": "display_data"
    }
   ],
   "source": [
    "Phylo.draw(tree1)"
   ]
  },
  {
   "cell_type": "code",
   "execution_count": 79,
   "metadata": {},
   "outputs": [
    {
     "data": {
      "text/plain": [
       "{'seq2': 0,\n",
       " 'seq10': 1,\n",
       " 'seq7': 2,\n",
       " 'seq3': 3,\n",
       " 'seq5': 4,\n",
       " 'seq4': 5,\n",
       " 'seq1': 6,\n",
       " 'seq8': 7,\n",
       " 'seq6': 8,\n",
       " 'seq9': 9}"
      ]
     },
     "execution_count": 79,
     "metadata": {},
     "output_type": "execute_result"
    }
   ],
   "source": [
    "order = 0\n",
    "clade_dict = {}\n",
    "for clade in tree1.find_clades():\n",
    "    if clade.name:\n",
    "        clade_dict[clade.name] = order\n",
    "        order += 1\n",
    "clade_dict\n"
   ]
  },
  {
   "cell_type": "code",
   "execution_count": 80,
   "metadata": {},
   "outputs": [
    {
     "name": "stdout",
     "output_type": "stream",
     "text": [
      "('seq1', 6)\n",
      "('seq10', 1)\n",
      "('seq7', 2)\n",
      "('seq3', 3)\n",
      "('seq5', 4)\n",
      "('seq4', 5)\n",
      "('seq2', 0)\n",
      "('seq8', 7)\n",
      "('seq6', 8)\n",
      "('seq9', 9)\n"
     ]
    }
   ],
   "source": [
    "# annotate the names in tree2 with the order in tree1\n",
    "for clade in tree2.find_clades():\n",
    "    if clade.name:\n",
    "        clade.name = (clade.name, clade_dict[clade.name])\n",
    "        print(clade.name)"
   ]
  },
  {
   "cell_type": "code",
   "execution_count": 85,
   "metadata": {},
   "outputs": [],
   "source": [
    "# check each clade in tree2 with:\n",
    "# if max - min + 1 == len(clade_dict), then the clade is a subset of tree1\n",
    "# RF = len(tree1) + len(tree2) - 2 * (number of common clades)\n",
    "\n",
    "common_clades = 0\n",
    "for clade in tree2.find_clades():\n",
    "    if clade.name:\n",
    "        if clade.name[1] in clade_dict.values():\n",
    "            common_clades += 1\n"
   ]
  },
  {
   "cell_type": "code",
   "execution_count": 86,
   "metadata": {},
   "outputs": [
    {
     "data": {
      "text/plain": [
       "10"
      ]
     },
     "execution_count": 86,
     "metadata": {},
     "output_type": "execute_result"
    }
   ],
   "source": [
    "common_clades"
   ]
  },
  {
   "cell_type": "code",
   "execution_count": 2,
   "metadata": {},
   "outputs": [],
   "source": [
    "class Node:\n",
    "    def __init__(self, name, distance=None):\n",
    "        self.name = name\n",
    "        self.distance = distance  # Distance from the parent\n",
    "        self.children = []\n"
   ]
  },
  {
   "cell_type": "code",
   "execution_count": null,
   "metadata": {},
   "outputs": [],
   "source": [
    "\n",
    "def parse_newick(filepath):\n",
    "    with open(filepath, 'r') as file:\n",
    "        newick_lines = file.read().splitlines()  # List of lines\n",
    "\n",
    "    # Join the lines back into a single string\n",
    "    newick_str = ' '.join(newick_lines) \n",
    "    # make the string into a tree with the Node class...\n",
    "\n",
    "# Example Usage\n",
    "filepath = \"../Testdata/tree1.new\" \n",
    "tree_root = parse_newick(filepath)\n"
   ]
  },
  {
   "cell_type": "code",
   "execution_count": 7,
   "metadata": {},
   "outputs": [],
   "source": [
    "def parse_newick(newick_str):\n",
    "    \"\"\"Parses a Newick tree string and returns the root node of the tree.\n",
    "\n",
    "    Args:\n",
    "        newick_str: A string representation of a Newick tree.\n",
    "\n",
    "    Returns:\n",
    "        The root node of the parsed tree.\n",
    "    \"\"\"\n",
    "\n",
    "    stack = []\n",
    "    current_node = None\n",
    "\n",
    "    for token in newick_str.split():\n",
    "        if token == '(':\n",
    "            # Create a new child node\n",
    "            new_node = Node(token.strip('('))\n",
    "            if current_node:\n",
    "                current_node.children.append(new_node)\n",
    "            stack.append(current_node)\n",
    "            current_node = new_node\n",
    "        elif token == ',':\n",
    "            # Move to the sibling of the current node\n",
    "            current_node = stack.pop()\n",
    "        elif token == ')':\n",
    "            # Move to the parent of the current node\n",
    "            current_node = stack.pop()\n",
    "        elif token.isdigit():\n",
    "            # Set the distance for the current node\n",
    "            current_node.distance = float(token)\n",
    "        else:\n",
    "            # Leaf node\n",
    "            current_node = Node(token)\n",
    "            if stack:\n",
    "                stack[-1].children.append(current_node)\n",
    "\n",
    "    return current_node\n"
   ]
  },
  {
   "cell_type": "code",
   "execution_count": 12,
   "metadata": {},
   "outputs": [
    {
     "name": "stdout",
     "output_type": "stream",
     "text": [
      "[]\n"
     ]
    }
   ],
   "source": [
    "# Example Newick string\n",
    "newick_str = \"((A,0.1)B,0.2)C;\"  \n",
    "\n",
    "# Parse the tree\n",
    "tree_root = parse_newick(newick_str)\n",
    "\n",
    "\n",
    "print(tree_root.children)\n"
   ]
  },
  {
   "cell_type": "code",
   "execution_count": 45,
   "metadata": {},
   "outputs": [],
   "source": [
    "def build_subtree(tokens):\n",
    "    if tokens[0] == '(':\n",
    "        tokens.pop(0)  # Remove opening parenthesis\n",
    "        clade = []\n",
    "        while tokens[0] != ')':\n",
    "            subtree, tokens = build_subtree(tokens)  # Recurse for subtrees\n",
    "            clade.append(subtree)         \n",
    "        tokens.pop(0)  # Remove closing parenthesis\n",
    "        return clade, tokens\n",
    "    else:\n",
    "        name = tokens.pop(0)\n",
    "        return name, tokens  # Leaf node (taxa name)\n",
    "\n",
    "def parse_newick(newick_str):\n",
    "    tokens = newick_str.strip().replace(',', ' ').split()\n",
    "    print(tokens)\n",
    "    return build_subtree(tokens)\n",
    "\n",
    "\n"
   ]
  },
  {
   "cell_type": "code",
   "execution_count": 53,
   "metadata": {},
   "outputs": [
    {
     "data": {
      "text/plain": [
       "'(\\n(\\nseq2:0.18258,\\n(\\nseq10:0.14710,\\nseq7:0.15261)\\n:0.02441)\\n:0.00702,\\nseq3:0.20934,\\n(\\n(\\n(\\nseq5:0.30207,\\nseq4:0.24793)\\n:0.02587,\\n(\\nseq1:0.20160,\\n(\\nseq8:0.12843,\\nseq6:0.12375)\\n:0.06209)\\n:0.01638)\\n:0.02352,\\nseq9:0.17922)\\n:0.00628);\\n'"
      ]
     },
     "execution_count": 53,
     "metadata": {},
     "output_type": "execute_result"
    }
   ],
   "source": [
    "with open('../Testdata/tree1.new', 'r') as f:\n",
    "    tree1_str = f.read()\n",
    "with open('../Testdata/tree2.new', 'r') as f:\n",
    "    tree2_str = f.read()\n",
    "\n",
    "tree1_str"
   ]
  },
  {
   "cell_type": "code",
   "execution_count": 39,
   "metadata": {},
   "outputs": [],
   "source": [
    "from Bio import Phylo\n",
    "\n",
    "def calculate_rf_distance(tree1_filepath, tree2_filepath):\n",
    "\n",
    "    with open(tree1_filepath, 'r') as f:\n",
    "        tree1_str = f.read()\n",
    "    with open(tree2_filepath, 'r') as f:\n",
    "        tree2_str = f.read()\n",
    "    tree1 = parse_newick(tree1_str)\n",
    "    tree2 = parse_newick(tree2_str)\n",
    "\n",
    "    def get_splits(tree):\n",
    "        splits = set()\n",
    "        for clade in tree: \n",
    "            if isinstance(clade, list):  # Internal node\n",
    "                child_clades = clade\n",
    "                if len(child_clades) >= 2:  # At least two children\n",
    "                    taxa1 = [c for c in child_clades[0] if isinstance(c, str)]\n",
    "                    taxa2 = [c for c in child_clades[1:] if isinstance(c, str)]\n",
    "                    splits.add(frozenset([frozenset(taxa1), frozenset(taxa2)]))\n",
    "                elif len(child_clades) == 1 and isinstance(child_clades[0], str): \n",
    "                    # Special Case: Single child clade with a name\n",
    "                    splits.add(frozenset([frozenset({child_clades[0]})]))  \n",
    "        return splits\n",
    "\n",
    "\n",
    "\n",
    "\n",
    "\n",
    "    splits1 = get_splits(tree1)\n",
    "    splits2 = get_splits(tree2)\n",
    "\n",
    "    return len(splits1.symmetric_difference(splits2))  # RF Distance\n",
    "\n",
    "\n"
   ]
  },
  {
   "cell_type": "code",
   "execution_count": 40,
   "metadata": {},
   "outputs": [
    {
     "name": "stdout",
     "output_type": "stream",
     "text": [
      "Newick String: (\n",
      "(\n",
      "seq2:0.18258,\n",
      "(\n",
      "seq10:0.14710,\n",
      "seq7:0.15261)\n",
      ":0.02441)\n",
      ":0.00702,\n",
      "seq3:0.20934,\n",
      "(\n",
      "(\n",
      "(\n",
      "seq5:0.30207,\n",
      "seq4:0.24793)\n",
      ":0.02587,\n",
      "(\n",
      "seq1:0.20160,\n",
      "(\n",
      "seq8:0.12843,\n",
      "seq6:0.12375)\n",
      ":0.06209)\n",
      ":0.01638)\n",
      ":0.02352,\n",
      "seq9:0.17922)\n",
      ":0.00628);\n",
      "\n"
     ]
    },
    {
     "ename": "IndexError",
     "evalue": "list index out of range",
     "output_type": "error",
     "traceback": [
      "\u001b[0;31m---------------------------------------------------------------------------\u001b[0m",
      "\u001b[0;31mIndexError\u001b[0m                                Traceback (most recent call last)",
      "Cell \u001b[0;32mIn[40], line 1\u001b[0m\n\u001b[0;32m----> 1\u001b[0m \u001b[43mcalculate_rf_distance\u001b[49m\u001b[43m(\u001b[49m\u001b[38;5;124;43m'\u001b[39;49m\u001b[38;5;124;43m../Testdata/tree1.new\u001b[39;49m\u001b[38;5;124;43m'\u001b[39;49m\u001b[43m,\u001b[49m\u001b[43m \u001b[49m\u001b[38;5;124;43m'\u001b[39;49m\u001b[38;5;124;43m../Testdata/tree2.new\u001b[39;49m\u001b[38;5;124;43m'\u001b[39;49m\u001b[43m)\u001b[49m\n",
      "Cell \u001b[0;32mIn[39], line 17\u001b[0m, in \u001b[0;36mcalculate_rf_distance\u001b[0;34m(tree1_filepath, tree2_filepath)\u001b[0m\n\u001b[1;32m     15\u001b[0m \u001b[38;5;28;01mwith\u001b[39;00m \u001b[38;5;28mopen\u001b[39m(tree2_filepath, \u001b[38;5;124m'\u001b[39m\u001b[38;5;124mr\u001b[39m\u001b[38;5;124m'\u001b[39m) \u001b[38;5;28;01mas\u001b[39;00m f:\n\u001b[1;32m     16\u001b[0m     tree2_str \u001b[38;5;241m=\u001b[39m f\u001b[38;5;241m.\u001b[39mread()\n\u001b[0;32m---> 17\u001b[0m tree1 \u001b[38;5;241m=\u001b[39m \u001b[43mparse_newick\u001b[49m\u001b[43m(\u001b[49m\u001b[43mtree1_str\u001b[49m\u001b[43m)\u001b[49m\n\u001b[1;32m     18\u001b[0m tree2 \u001b[38;5;241m=\u001b[39m parse_newick(tree2_str)\n\u001b[1;32m     20\u001b[0m \u001b[38;5;28;01mdef\u001b[39;00m \u001b[38;5;21mget_splits\u001b[39m(tree):\n",
      "Cell \u001b[0;32mIn[36], line 17\u001b[0m, in \u001b[0;36mparse_newick\u001b[0;34m(newick_str)\u001b[0m\n\u001b[1;32m     15\u001b[0m tokens \u001b[38;5;241m=\u001b[39m newick_str\u001b[38;5;241m.\u001b[39mstrip()\u001b[38;5;241m.\u001b[39mreplace(\u001b[38;5;124m'\u001b[39m\u001b[38;5;124m,\u001b[39m\u001b[38;5;124m'\u001b[39m, \u001b[38;5;124m'\u001b[39m\u001b[38;5;124m \u001b[39m\u001b[38;5;124m'\u001b[39m)\u001b[38;5;241m.\u001b[39msplit()\n\u001b[1;32m     16\u001b[0m \u001b[38;5;28mprint\u001b[39m(\u001b[38;5;124m\"\u001b[39m\u001b[38;5;124mNewick String:\u001b[39m\u001b[38;5;124m\"\u001b[39m, newick_str)\n\u001b[0;32m---> 17\u001b[0m \u001b[38;5;28;01mreturn\u001b[39;00m \u001b[43mbuild_subtree\u001b[49m\u001b[43m(\u001b[49m\u001b[43mtokens\u001b[49m\u001b[43m)\u001b[49m\n",
      "Cell \u001b[0;32mIn[36], line 6\u001b[0m, in \u001b[0;36mbuild_subtree\u001b[0;34m(tokens)\u001b[0m\n\u001b[1;32m      4\u001b[0m clade \u001b[38;5;241m=\u001b[39m []\n\u001b[1;32m      5\u001b[0m \u001b[38;5;28;01mwhile\u001b[39;00m tokens[\u001b[38;5;241m0\u001b[39m] \u001b[38;5;241m!=\u001b[39m \u001b[38;5;124m'\u001b[39m\u001b[38;5;124m)\u001b[39m\u001b[38;5;124m'\u001b[39m:\n\u001b[0;32m----> 6\u001b[0m     subtree, tokens \u001b[38;5;241m=\u001b[39m \u001b[43mbuild_subtree\u001b[49m\u001b[43m(\u001b[49m\u001b[43mtokens\u001b[49m\u001b[43m)\u001b[49m  \u001b[38;5;66;03m# Recurse for subtrees\u001b[39;00m\n\u001b[1;32m      7\u001b[0m     clade\u001b[38;5;241m.\u001b[39mappend(subtree)         \n\u001b[1;32m      8\u001b[0m tokens\u001b[38;5;241m.\u001b[39mpop(\u001b[38;5;241m0\u001b[39m)  \u001b[38;5;66;03m# Remove closing parenthesis\u001b[39;00m\n",
      "Cell \u001b[0;32mIn[36], line 6\u001b[0m, in \u001b[0;36mbuild_subtree\u001b[0;34m(tokens)\u001b[0m\n\u001b[1;32m      4\u001b[0m clade \u001b[38;5;241m=\u001b[39m []\n\u001b[1;32m      5\u001b[0m \u001b[38;5;28;01mwhile\u001b[39;00m tokens[\u001b[38;5;241m0\u001b[39m] \u001b[38;5;241m!=\u001b[39m \u001b[38;5;124m'\u001b[39m\u001b[38;5;124m)\u001b[39m\u001b[38;5;124m'\u001b[39m:\n\u001b[0;32m----> 6\u001b[0m     subtree, tokens \u001b[38;5;241m=\u001b[39m \u001b[43mbuild_subtree\u001b[49m\u001b[43m(\u001b[49m\u001b[43mtokens\u001b[49m\u001b[43m)\u001b[49m  \u001b[38;5;66;03m# Recurse for subtrees\u001b[39;00m\n\u001b[1;32m      7\u001b[0m     clade\u001b[38;5;241m.\u001b[39mappend(subtree)         \n\u001b[1;32m      8\u001b[0m tokens\u001b[38;5;241m.\u001b[39mpop(\u001b[38;5;241m0\u001b[39m)  \u001b[38;5;66;03m# Remove closing parenthesis\u001b[39;00m\n",
      "    \u001b[0;31m[... skipping similar frames: build_subtree at line 6 (4 times)]\u001b[0m\n",
      "Cell \u001b[0;32mIn[36], line 6\u001b[0m, in \u001b[0;36mbuild_subtree\u001b[0;34m(tokens)\u001b[0m\n\u001b[1;32m      4\u001b[0m clade \u001b[38;5;241m=\u001b[39m []\n\u001b[1;32m      5\u001b[0m \u001b[38;5;28;01mwhile\u001b[39;00m tokens[\u001b[38;5;241m0\u001b[39m] \u001b[38;5;241m!=\u001b[39m \u001b[38;5;124m'\u001b[39m\u001b[38;5;124m)\u001b[39m\u001b[38;5;124m'\u001b[39m:\n\u001b[0;32m----> 6\u001b[0m     subtree, tokens \u001b[38;5;241m=\u001b[39m \u001b[43mbuild_subtree\u001b[49m\u001b[43m(\u001b[49m\u001b[43mtokens\u001b[49m\u001b[43m)\u001b[49m  \u001b[38;5;66;03m# Recurse for subtrees\u001b[39;00m\n\u001b[1;32m      7\u001b[0m     clade\u001b[38;5;241m.\u001b[39mappend(subtree)         \n\u001b[1;32m      8\u001b[0m tokens\u001b[38;5;241m.\u001b[39mpop(\u001b[38;5;241m0\u001b[39m)  \u001b[38;5;66;03m# Remove closing parenthesis\u001b[39;00m\n",
      "Cell \u001b[0;32mIn[36], line 5\u001b[0m, in \u001b[0;36mbuild_subtree\u001b[0;34m(tokens)\u001b[0m\n\u001b[1;32m      3\u001b[0m tokens\u001b[38;5;241m.\u001b[39mpop(\u001b[38;5;241m0\u001b[39m)  \u001b[38;5;66;03m# Remove opening parenthesis\u001b[39;00m\n\u001b[1;32m      4\u001b[0m clade \u001b[38;5;241m=\u001b[39m []\n\u001b[0;32m----> 5\u001b[0m \u001b[38;5;28;01mwhile\u001b[39;00m \u001b[43mtokens\u001b[49m\u001b[43m[\u001b[49m\u001b[38;5;241;43m0\u001b[39;49m\u001b[43m]\u001b[49m \u001b[38;5;241m!=\u001b[39m \u001b[38;5;124m'\u001b[39m\u001b[38;5;124m)\u001b[39m\u001b[38;5;124m'\u001b[39m:\n\u001b[1;32m      6\u001b[0m     subtree, tokens \u001b[38;5;241m=\u001b[39m build_subtree(tokens)  \u001b[38;5;66;03m# Recurse for subtrees\u001b[39;00m\n\u001b[1;32m      7\u001b[0m     clade\u001b[38;5;241m.\u001b[39mappend(subtree)         \n",
      "\u001b[0;31mIndexError\u001b[0m: list index out of range"
     ]
    }
   ],
   "source": [
    "calculate_rf_distance('../Testdata/tree1.new', '../Testdata/tree2.new')"
   ]
  },
  {
   "cell_type": "code",
   "execution_count": 51,
   "metadata": {},
   "outputs": [
    {
     "ename": "TypeError",
     "evalue": "unhashable type: 'set'",
     "output_type": "error",
     "traceback": [
      "\u001b[0;31m---------------------------------------------------------------------------\u001b[0m",
      "\u001b[0;31mTypeError\u001b[0m                                 Traceback (most recent call last)",
      "Cell \u001b[0;32mIn[51], line 36\u001b[0m\n\u001b[1;32m     31\u001b[0m     rf_distance \u001b[38;5;241m=\u001b[39m \u001b[38;5;28mlen\u001b[39m(bipartitions1\u001b[38;5;241m.\u001b[39msymmetric_difference(bipartitions2))\n\u001b[1;32m     33\u001b[0m     \u001b[38;5;28;01mreturn\u001b[39;00m rf_distance\n\u001b[0;32m---> 36\u001b[0m distance \u001b[38;5;241m=\u001b[39m \u001b[43mrobinson_foulds_distance\u001b[49m\u001b[43m(\u001b[49m\u001b[38;5;124;43m'\u001b[39;49m\u001b[38;5;124;43m../Testdata/tree1.new\u001b[39;49m\u001b[38;5;124;43m'\u001b[39;49m\u001b[43m,\u001b[49m\u001b[43m \u001b[49m\u001b[38;5;124;43m'\u001b[39;49m\u001b[38;5;124;43m../Testdata/tree2.new\u001b[39;49m\u001b[38;5;124;43m'\u001b[39;49m\u001b[43m)\u001b[49m\n\u001b[1;32m     37\u001b[0m \u001b[38;5;28mprint\u001b[39m(\u001b[38;5;124m\"\u001b[39m\u001b[38;5;124mRobinson-Foulds distance:\u001b[39m\u001b[38;5;124m\"\u001b[39m, distance)\n",
      "Cell \u001b[0;32mIn[51], line 26\u001b[0m, in \u001b[0;36mrobinson_foulds_distance\u001b[0;34m(tree1_str, tree2_str)\u001b[0m\n\u001b[1;32m     23\u001b[0m         bipartitions\u001b[38;5;241m.\u001b[39madd(\u001b[38;5;28mfrozenset\u001b[39m([clade_tips, rest_tips]))\n\u001b[1;32m     24\u001b[0m     \u001b[38;5;28;01mreturn\u001b[39;00m bipartitions\n\u001b[0;32m---> 26\u001b[0m bipartitions1 \u001b[38;5;241m=\u001b[39m \u001b[43mget_bipartitions\u001b[49m\u001b[43m(\u001b[49m\u001b[43mtree1\u001b[49m\u001b[43m)\u001b[49m\n\u001b[1;32m     27\u001b[0m bipartitions2 \u001b[38;5;241m=\u001b[39m get_bipartitions(tree2)\n\u001b[1;32m     29\u001b[0m \u001b[38;5;66;03m# Robinson-Foulds distance is the sum of splits present in one tree\u001b[39;00m\n\u001b[1;32m     30\u001b[0m \u001b[38;5;66;03m# but not the other, and vice versa.\u001b[39;00m\n",
      "Cell \u001b[0;32mIn[51], line 23\u001b[0m, in \u001b[0;36mrobinson_foulds_distance.<locals>.get_bipartitions\u001b[0;34m(tree)\u001b[0m\n\u001b[1;32m     21\u001b[0m     clade_tips \u001b[38;5;241m=\u001b[39m {tip\u001b[38;5;241m.\u001b[39mname \u001b[38;5;28;01mfor\u001b[39;00m tip \u001b[38;5;129;01min\u001b[39;00m clade\u001b[38;5;241m.\u001b[39mget_terminals()}\n\u001b[1;32m     22\u001b[0m     rest_tips \u001b[38;5;241m=\u001b[39m {tip\u001b[38;5;241m.\u001b[39mname \u001b[38;5;28;01mfor\u001b[39;00m tip \u001b[38;5;129;01min\u001b[39;00m tree\u001b[38;5;241m.\u001b[39mget_terminals()} \u001b[38;5;241m-\u001b[39m clade_tips\n\u001b[0;32m---> 23\u001b[0m     bipartitions\u001b[38;5;241m.\u001b[39madd(\u001b[38;5;28;43mfrozenset\u001b[39;49m\u001b[43m(\u001b[49m\u001b[43m[\u001b[49m\u001b[43mclade_tips\u001b[49m\u001b[43m,\u001b[49m\u001b[43m \u001b[49m\u001b[43mrest_tips\u001b[49m\u001b[43m]\u001b[49m\u001b[43m)\u001b[49m)\n\u001b[1;32m     24\u001b[0m \u001b[38;5;28;01mreturn\u001b[39;00m bipartitions\n",
      "\u001b[0;31mTypeError\u001b[0m: unhashable type: 'set'"
     ]
    }
   ],
   "source": [
    "from Bio import Phylo\n",
    "\n",
    "def robinson_foulds_distance(tree1_str, tree2_str):\n",
    "    \"\"\"Calculates the Robinson-Foulds distance between two Newick trees.\n",
    "\n",
    "    Args:\n",
    "        tree1_str (str): The first tree in Newick format.\n",
    "        tree2_str (str): The second tree in Newick format.\n",
    "\n",
    "    Returns:\n",
    "        int: The Robinson-Foulds distance between the two trees.\n",
    "    \"\"\"\n",
    "\n",
    "    tree1 = Phylo.read(tree1_str, \"newick\")\n",
    "    tree2 = Phylo.read(tree2_str, \"newick\")\n",
    "\n",
    "    def get_bipartitions(tree):\n",
    "        \"\"\"Extracts all bipartitions (splits) defined by the tree.\"\"\"\n",
    "        bipartitions = set()\n",
    "        for clade in tree.get_nonterminals():\n",
    "            clade_tips = {tip.name for tip in clade.get_terminals()}\n",
    "            rest_tips = {tip.name for tip in tree.get_terminals()} - clade_tips\n",
    "            bipartitions.add(frozenset([clade_tips, rest_tips]))\n",
    "        return bipartitions\n",
    "\n",
    "    bipartitions1 = get_bipartitions(tree1)\n",
    "    bipartitions2 = get_bipartitions(tree2)\n",
    "\n",
    "    # Robinson-Foulds distance is the sum of splits present in one tree\n",
    "    # but not the other, and vice versa.\n",
    "    rf_distance = len(bipartitions1.symmetric_difference(bipartitions2))\n",
    "\n",
    "    return rf_distance\n",
    "\n",
    "\n",
    "distance = robinson_foulds_distance('../Testdata/tree1.new', '../Testdata/tree2.new')\n",
    "print(\"Robinson-Foulds distance:\", distance)\n"
   ]
  },
  {
   "cell_type": "code",
   "execution_count": null,
   "metadata": {},
   "outputs": [],
   "source": []
  }
 ],
 "metadata": {
  "kernelspec": {
   "display_name": "aib",
   "language": "python",
   "name": "python3"
  },
  "language_info": {
   "codemirror_mode": {
    "name": "ipython",
    "version": 3
   },
   "file_extension": ".py",
   "mimetype": "text/x-python",
   "name": "python",
   "nbconvert_exporter": "python",
   "pygments_lexer": "ipython3",
   "version": "3.12.1"
  }
 },
 "nbformat": 4,
 "nbformat_minor": 2
}

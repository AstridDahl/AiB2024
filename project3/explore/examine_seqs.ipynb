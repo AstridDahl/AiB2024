{
 "cells": [
  {
   "cell_type": "code",
   "execution_count": 1,
   "metadata": {},
   "outputs": [],
   "source": [
    "def read_fasta(file):\n",
    "    with open(file, 'r') as f:\n",
    "        lines = f.readlines()\n",
    "    seqs = {}\n",
    "    for line in lines:\n",
    "        if line[0] == '>':\n",
    "            header = line.strip()\n",
    "            seqs[header] = ''\n",
    "        else:\n",
    "            seqs[header] += line.strip()\n",
    "    # make the sequences uppercase\n",
    "    for header, seq in seqs.items():\n",
    "        seqs[header] = seq.upper()\n",
    "    return seqs"
   ]
  },
  {
   "cell_type": "code",
   "execution_count": 2,
   "metadata": {},
   "outputs": [],
   "source": [
    "seqs = read_fasta('/Users/chcharlton/Aarhus/Spring24/AiB/AiB2024/project3/fasta_files/brca1-full.fasta')"
   ]
  },
  {
   "cell_type": "code",
   "execution_count": 6,
   "metadata": {},
   "outputs": [],
   "source": [
    "seq_list = list(seqs.values())"
   ]
  },
  {
   "cell_type": "code",
   "execution_count": 9,
   "metadata": {},
   "outputs": [
    {
     "name": "stdout",
     "output_type": "stream",
     "text": [
      "{'S', 'G', 'A', 'T', 'C', 'N', 'R'}\n"
     ]
    }
   ],
   "source": [
    "# join the strings in the seq_list into one\n",
    "combined_seq = ''.join(seq_list)\n",
    "# print the set of unique characters in the combined sequence\n",
    "print(set(combined_seq))\n"
   ]
  },
  {
   "cell_type": "markdown",
   "metadata": {},
   "source": [
    "## N\n",
    "This means any nucleutide, so we will replace N's with a random nucleotide from ACGT\n",
    "## S\n",
    "This means \"strong\", and could be one of CG, so we'll choose randomly from those.\n",
    "## R\n",
    "This means \"purine\", so can be A or G"
   ]
  },
  {
   "cell_type": "code",
   "execution_count": 54,
   "metadata": {},
   "outputs": [],
   "source": [
    "# write the updated read_fasta function that replaces N's, R's and S's \n",
    "# with their corresponding random nucleotides\n",
    "import random\n",
    "def read_fasta(file):\n",
    "    with open(file, 'r') as f:\n",
    "        lines = f.readlines()\n",
    "    seqs = {}\n",
    "    for line in lines:\n",
    "        if line[0] == '>':\n",
    "            header = line.strip()\n",
    "            seqs[header] = ''\n",
    "        else:\n",
    "            seqs[header] += line.strip()\n",
    "    # make the sequences uppercase\n",
    "    for header, seq in seqs.items():\n",
    "        # replace N's from AGCT, R's from AG, S's from CG, make all uppercase \n",
    "         seqs[header] = ''.join([random.choice(['A', 'C', 'G', 'T']) if char == 'N' else \\\n",
    "                                 random.choice(['A','G']) if char == 'R' else \\\n",
    "                                 random.choice(['C','G']) if char == 'S' else \\\n",
    "                                 char for char in seq.upper()])\n",
    "\n",
    "    return seqs"
   ]
  },
  {
   "cell_type": "code",
   "execution_count": 55,
   "metadata": {},
   "outputs": [],
   "source": [
    "seqs_updated = read_fasta('/Users/chcharlton/Aarhus/Spring24/AiB/AiB2024/project3/fasta_files/brca1-full.fasta')"
   ]
  },
  {
   "cell_type": "code",
   "execution_count": 26,
   "metadata": {},
   "outputs": [],
   "source": [
    "seqs2 = \"NNNRRRSSS\""
   ]
  },
  {
   "cell_type": "code",
   "execution_count": 53,
   "metadata": {},
   "outputs": [
    {
     "data": {
      "text/plain": [
       "'AACAGGGGG'"
      ]
     },
     "execution_count": 53,
     "metadata": {},
     "output_type": "execute_result"
    }
   ],
   "source": [
    "''.join([random.choice(['A', 'C', 'G', 'T']) if char == 'N' else \\\n",
    "        random.choice(['A','G']) if char == 'R' else \\\n",
    "        random.choice(['C','G']) if char == 'S' else \\\n",
    "        char for char in seqs2])"
   ]
  },
  {
   "cell_type": "code",
   "execution_count": null,
   "metadata": {},
   "outputs": [],
   "source": []
  }
 ],
 "metadata": {
  "kernelspec": {
   "display_name": "aib",
   "language": "python",
   "name": "python3"
  },
  "language_info": {
   "codemirror_mode": {
    "name": "ipython",
    "version": 3
   },
   "file_extension": ".py",
   "mimetype": "text/x-python",
   "name": "python",
   "nbconvert_exporter": "python",
   "pygments_lexer": "ipython3",
   "version": "3.12.1"
  }
 },
 "nbformat": 4,
 "nbformat_minor": 2
}

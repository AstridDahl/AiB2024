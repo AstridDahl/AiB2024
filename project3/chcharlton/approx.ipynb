{
 "cells": [
  {
   "cell_type": "markdown",
   "metadata": {},
   "source": [
    "# Steps for the approximate algorithm (Gusfield)\n",
    "### 1 \n",
    "Choose the center string. \n",
    "### 2\n",
    "Make alignments between the center string and all of the other strings. \n",
    "### 3 \n",
    "Merge the pairwise alignments. The order in which we do this does not matter."
   ]
  },
  {
   "cell_type": "code",
   "execution_count": 1,
   "metadata": {},
   "outputs": [],
   "source": [
    "import numpy as np\n",
    "import os\n",
    "import sys"
   ]
  },
  {
   "cell_type": "markdown",
   "metadata": {},
   "source": [
    "# 0: Define prequisite functions"
   ]
  },
  {
   "cell_type": "code",
   "execution_count": 30,
   "metadata": {},
   "outputs": [],
   "source": [
    "######### define a helper function to read in a fasta file ############\n",
    "# this should store the sequences of the file in a dictionary\n",
    "\n",
    "def read_fasta(file):\n",
    "    with open(file, 'r') as f:\n",
    "        lines = f.readlines()\n",
    "    seqs = {}\n",
    "    for line in lines:\n",
    "        if line[0] == '>':\n",
    "            header = line.strip()\n",
    "            seqs[header] = ''\n",
    "        else:\n",
    "            seqs[header] += line.strip()\n",
    "    # make the sequences lowercase\n",
    "    for header, seq in seqs.items():\n",
    "        seqs[header] = seq.lower()\n",
    "    return seqs\n",
    "\n",
    "########### define function to read the Phylip-like control file ####\n",
    "# this will read in the score matrix, gap cost, and alphabet\n",
    "# the file will have the following format:\n",
    "#   4  #gap cost\n",
    "#   A  0  5  2  5 #alphabet[0], scoring matrix[0,:]\n",
    "#   C  5  0  5  2 #alphabet[1], scoring matrix[1,:]\n",
    "#   G  2  5  0  5 #alphabet[2], scoring matrix[2,:]\n",
    "#   T  5  2  5  0 #alphabet[3], scoring matrix[3,:]\n",
    "\n",
    "def read_control_file(file):\n",
    "    with open(file, 'r') as f:\n",
    "        lines = f.readlines()\n",
    "    # get the gap cost\n",
    "    gap_cost = int(lines[0].strip())\n",
    "    # get the alphabet\n",
    "    alphabet = []\n",
    "    # get the scoring matrix\n",
    "    scoring_matrix = []\n",
    "    for line in lines[1:]:\n",
    "        line = line.strip().split()\n",
    "        alphabet.append(line[0])\n",
    "        scoring_matrix.append([int(x) for x in line[1:]])\n",
    "    # make the alphabet lowercase\n",
    "    alphabet = [x.lower() for x in alphabet]\n",
    "    return gap_cost, alphabet, np.array(scoring_matrix)\n",
    "\n",
    "\n",
    "\n",
    "######## Cost function between two nucleotides #######################\n",
    "def cost(nuc1, nuc2, scoring_matrix, alphabet):\n",
    "#   will use this for indexing, so it's a list with the order of alphabet\n",
    "    nucleotides = alphabet\n",
    "    # nucleotides = ['a','c','g','t']\n",
    "#   set the scoring matrix the scoring matrix\n",
    "    scoring_matrix = scoring_matrix\n",
    "#   index into the scoring matrix based on the given nucleotides to get cost\n",
    "    return scoring_matrix[nucleotides.index(nuc1), nucleotides.index(nuc2)]\n",
    "\n",
    "######## define the optimality table function  #######################\n",
    "def optimal(A,B, scoring_matrix, gap_cost, alphabet):\n",
    "    # get table dimensions\n",
    "    n = len(A)\n",
    "    m = len(B)\n",
    "\n",
    "    # initialize the table\n",
    "    T = np.empty((n+1,m+1))\n",
    "    # set the 0th row and column to be NaN\n",
    "    T[:] = np.nan\n",
    "\n",
    "    # set the 0th column of T to be 0, -gapcost, -2*gapcost, ... -n*gapcost\n",
    "    # make it work for gapcost = 0\n",
    "    if gap_cost != 0:\n",
    "        # make a list of length n filled with 0, -gapcost, -2*gapcost, ... -n*gapcost\n",
    "        T[:,0] = [0 + gap_cost*i for i in range(n+1)]\n",
    "    else:\n",
    "        T[:,0] = np.zeros(n+1)\n",
    "\n",
    "    # set the 0th row of T to be 0, -gapcost, -2*gapcost, ... -n*gapcost\n",
    "    # make it work for gapcost = 0\n",
    "    if gap_cost != 0:\n",
    "        T[0,:] = [0 + gap_cost*i for i in range(m+1)]\n",
    "    else:\n",
    "        T[0,:] = np.zeros(m+1)\n",
    "\n",
    "    # fill out the table by choosing the maximum of the three options,\n",
    "    # a match/mismatch defined by cost(diagonal), \n",
    "    # a gap in A (up) defined by gap cost (-1)\n",
    "    # or a gap in B (left) defined by gap cost (-1)\n",
    "    for i in range(1,n+1):\n",
    "        for j in range(1,m+1):\n",
    "            T[i,j] = min(\n",
    "                T[i-1,j-1] + cost(A[i-1],B[j-1], scoring_matrix, alphabet), \n",
    "                T[i-1,j] + gap_cost, \n",
    "                T[i,j-1] + gap_cost \n",
    "            )\n",
    "    return T\n",
    "\n",
    "######## define the backtracking function  #######################\n",
    "def backtrack_one(A,B, scoring_matrix, gap_cost, alphabet):\n",
    "    align_A = ''\n",
    "    align_B = ''\n",
    "    i = len(A)\n",
    "    j = len(B)\n",
    "    T = optimal(A,B, scoring_matrix, gap_cost, alphabet)\n",
    "    # keep iterating while we haven't reached the end of either sequence\n",
    "    while i > 0 and j > 0:\n",
    "        # if the score in T came from a match/mismatch...\n",
    "        if T[i,j] == T[i-1,j-1] + cost(A[i-1],B[j-1], scoring_matrix, alphabet):\n",
    "            align_A = A[i-1] + align_A\n",
    "            align_B = B[j-1] + align_B\n",
    "            i -= 1\n",
    "            j -= 1\n",
    "        # if the score in T came from a gap in A...\n",
    "        elif T[i,j] == T[i-1,j] + gap_cost:\n",
    "            align_A = A[i-1] + align_A\n",
    "            align_B = '-' + align_B\n",
    "            i -= 1\n",
    "        # if the score in T came from a gap in B...\n",
    "        else:\n",
    "            align_A = '-' + align_A\n",
    "            align_B = B[j-1] + align_B\n",
    "            j -= 1\n",
    "    return (align_A, align_B, T)"
   ]
  },
  {
   "cell_type": "markdown",
   "metadata": {},
   "source": [
    "# 0.5: Read in the sequences"
   ]
  },
  {
   "cell_type": "code",
   "execution_count": 6,
   "metadata": {},
   "outputs": [
    {
     "name": "stdout",
     "output_type": "stream",
     "text": [
      "{'>seq1': 'aataat', '>seq2': 'aagg', '>seq3': 'acgta', '>seq4': 'agtactac'}\n"
     ]
    }
   ],
   "source": [
    "seqs = read_fasta('/Users/chcharlton/Aarhus/Spring24/AiB/AiB2024/project3/chcharlton/test_seqs.fasta')\n",
    "print(seqs)"
   ]
  },
  {
   "cell_type": "markdown",
   "metadata": {},
   "source": [
    "# 1: Choose the center string"
   ]
  },
  {
   "cell_type": "code",
   "execution_count": 24,
   "metadata": {},
   "outputs": [],
   "source": [
    "# get optimal costs between all pairs of sequences, return the sequence that is on average closest to the others\n",
    "def get_center_string(seqs):\n",
    "    center_string = None\n",
    "    # get the optimal costs between all pairs of sequences (not including self)\n",
    "    # store the seqence key with the lowest average cost\n",
    "    lowest_avg_cost = np.inf\n",
    "    for key1 in seqs:\n",
    "        total_cost = 0\n",
    "        for key2 in seqs:\n",
    "            if key1 != key2:\n",
    "                A = seqs[key1]\n",
    "                B = seqs[key2]\n",
    "                gap_cost, alphabet, scoring_matrix = read_control_file('/Users/chcharlton/Aarhus/Spring24/AiB/AiB2024/project3/chcharlton/control.txt')\n",
    "                T = optimal(A,B, scoring_matrix, gap_cost, alphabet)\n",
    "                total_cost += T[-1,-1]\n",
    "        avg_cost = total_cost / (len(seqs)-1)\n",
    "        if avg_cost < lowest_avg_cost:\n",
    "            lowest_avg_cost = avg_cost\n",
    "            center_string = key1\n",
    "    return center_string\n",
    "\n",
    "    \n"
   ]
  },
  {
   "cell_type": "code",
   "execution_count": 25,
   "metadata": {},
   "outputs": [
    {
     "name": "stdout",
     "output_type": "stream",
     "text": [
      ">seq1 >seq2\n",
      ">seq1 >seq3\n",
      ">seq1 >seq4\n",
      ">seq2 >seq1\n",
      ">seq2 >seq3\n",
      ">seq2 >seq4\n",
      ">seq3 >seq1\n",
      ">seq3 >seq2\n",
      ">seq3 >seq4\n",
      ">seq4 >seq1\n",
      ">seq4 >seq2\n",
      ">seq4 >seq3\n"
     ]
    },
    {
     "data": {
      "text/plain": [
       "'>seq1'"
      ]
     },
     "execution_count": 25,
     "metadata": {},
     "output_type": "execute_result"
    }
   ],
   "source": [
    "get_center_string(seqs)"
   ]
  },
  {
   "cell_type": "markdown",
   "metadata": {},
   "source": [
    "# 2: Generate all of the pairwise alignments"
   ]
  },
  {
   "cell_type": "code",
   "execution_count": 48,
   "metadata": {},
   "outputs": [],
   "source": [
    "# define function to generate alignemtns between a center string and all other sequences except itself\n",
    "# this will depend on the optimal function and the backtrack_one function\n",
    "def generate_alignments(seqs, center_string):\n",
    "    alignments = {}\n",
    "    gap_cost, alphabet, scoring_matrix = read_control_file('/Users/chcharlton/Aarhus/Spring24/AiB/AiB2024/project3/chcharlton/control.txt')\n",
    "    for key in seqs:\n",
    "        if key != center_string:\n",
    "            A = seqs[center_string]\n",
    "            B = seqs[key]\n",
    "            align_a, align_b, T = backtrack_one(A, B, scoring_matrix, gap_cost, alphabet)\n",
    "            # store the alignments in a dictionary where each value is a numpy array of \n",
    "            # the split up strings of the alignments\n",
    "            alignments[key] = np.array([list(align_a), list(align_b)])\n",
    "    return alignments\n",
    "    \n"
   ]
  },
  {
   "cell_type": "code",
   "execution_count": 40,
   "metadata": {},
   "outputs": [
    {
     "data": {
      "text/plain": [
       "{'>seq1': 'aataat', '>seq2': 'aagg', '>seq3': 'acgta', '>seq4': 'agtactac'}"
      ]
     },
     "execution_count": 40,
     "metadata": {},
     "output_type": "execute_result"
    }
   ],
   "source": [
    "seqs"
   ]
  },
  {
   "cell_type": "code",
   "execution_count": 49,
   "metadata": {},
   "outputs": [
    {
     "data": {
      "text/plain": [
       "{'>seq2': array([['a', 'a', 't', 'a', 'a', 't'],\n",
       "        ['a', 'a', '-', 'g', 'g', '-']], dtype='<U1'),\n",
       " '>seq3': array([['a', '-', 'a', 't', 'a', 'a', 't'],\n",
       "        ['a', 'c', 'g', 't', '-', 'a', '-']], dtype='<U1'),\n",
       " '>seq4': array([['a', 'a', 't', 'a', '-', '-', 'a', 't'],\n",
       "        ['a', 'g', 't', 'a', 'c', 't', 'a', 'c']], dtype='<U1')}"
      ]
     },
     "execution_count": 49,
     "metadata": {},
     "output_type": "execute_result"
    }
   ],
   "source": [
    "generate_alignments(seqs, '>seq1')"
   ]
  },
  {
   "cell_type": "markdown",
   "metadata": {},
   "source": [
    "# 3: Merge the pairwise alignments "
   ]
  },
  {
   "cell_type": "code",
   "execution_count": 52,
   "metadata": {},
   "outputs": [],
   "source": [
    "# Takes a multiple alignment (M) and a pairwise alignemnt (A) and returns a new multiple alignment (MA)\n",
    "def extend_msa(M, A):\n",
    "    MA = np.empty((np.shape(M)[0]+1,0), str)\n",
    "    i, j = 0, 0\n",
    "    while i < np.shape(M)[1] and j < np.shape(A)[1]:\n",
    "        if M[0][i] != '-' and A[0][j] != '-':\n",
    "            MA = np.append(MA, np.append(M[:,i], A[-1,j])[:,None], axis=1)\n",
    "            # increment both i and j because we are consuming information from both M and A\n",
    "            i += 1\n",
    "            j += 1\n",
    "        elif M[0][i] == '-' and A[0][j] != '-':\n",
    "            MA = np.append(MA, np.append(M[:,i], '-')[:, None], axis=1)\n",
    "            # increment i but not j because we are consuming no information from A\n",
    "            i += 1\n",
    "        elif M[0][i] != '-' and A[0][j] == '-':\n",
    "            MA = np.append(MA, np.append(np.array(['-']*np.shape(M)[0]), A[-1,j])[:, None], axis=1)\n",
    "            # increment j but not i because we are consuming no information from M\n",
    "            j += 1\n",
    "        elif M[0][i] == '-' and A[0][j] == '-':\n",
    "            MA = np.append(MA, np.append(M[:,i], '-')[:, None], axis=1)\n",
    "            # increment i but not j because we are consuming no information from A\n",
    "            i += 1\n",
    "    if i < np.shape(M)[1]:\n",
    "        MA = np.append(MA, np.append(M[:,i:], np.array(['-']*np.shape(A)[0])[:, None], axis=1), axis=1)\n",
    "    if j < np.shape(A)[1]:\n",
    "        MA = np.append(MA, np.append(np.array(['-']*np.shape(M)[0]), A[-1,j:], axis=1), axis=1)\n",
    "    return MA"
   ]
  },
  {
   "cell_type": "code",
   "execution_count": 53,
   "metadata": {},
   "outputs": [],
   "source": [
    "# define a function that takes a dictionary of alignments and returns a multiple alignment\n",
    "# should use the extend_msa function\n",
    "def get_msa(alignments):\n",
    "    # get the first alignment\n",
    "    M = alignments[list(alignments.keys())[0]]\n",
    "    # iterate over the rest of the alignments and extend the multiple alignment\n",
    "    for key in list(alignments.keys())[1:]:\n",
    "        A = alignments[key]\n",
    "        M = extend_msa(M, A)\n",
    "    return M"
   ]
  },
  {
   "cell_type": "code",
   "execution_count": 54,
   "metadata": {},
   "outputs": [
    {
     "data": {
      "text/plain": [
       "array([['a', '-', 'a', 't', 'a', '-', '-', 'a', 't'],\n",
       "       ['a', '-', 'a', '-', 'g', '-', '-', 'g', '-'],\n",
       "       ['a', 'c', 'g', 't', '-', '-', '-', 'a', '-'],\n",
       "       ['a', '-', 'g', 't', 'a', 'c', 't', 'a', 'c']], dtype='<U1')"
      ]
     },
     "execution_count": 54,
     "metadata": {},
     "output_type": "execute_result"
    }
   ],
   "source": [
    "# test the get_msa function\n",
    "alignments = generate_alignments(seqs, '>seq1')\n",
    "get_msa(alignments)\n"
   ]
  },
  {
   "cell_type": "code",
   "execution_count": null,
   "metadata": {},
   "outputs": [],
   "source": []
  }
 ],
 "metadata": {
  "kernelspec": {
   "display_name": "aib",
   "language": "python",
   "name": "python3"
  },
  "language_info": {
   "codemirror_mode": {
    "name": "ipython",
    "version": 3
   },
   "file_extension": ".py",
   "mimetype": "text/x-python",
   "name": "python",
   "nbconvert_exporter": "python",
   "pygments_lexer": "ipython3",
   "version": "3.12.1"
  }
 },
 "nbformat": 4,
 "nbformat_minor": 2
}

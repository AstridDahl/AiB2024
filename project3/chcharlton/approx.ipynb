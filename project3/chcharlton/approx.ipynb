{
 "cells": [
  {
   "cell_type": "markdown",
   "metadata": {},
   "source": [
    "# Steps for the approximate algorithm (Gusfield)\n",
    "### 1 \n",
    "Choose the center string. \n",
    "### 2\n",
    "Make alignments between the center string and all of the other strings. \n",
    "### 3 \n",
    "Merge the pairwise alignments. The order in which we do this does not matter."
   ]
  },
  {
   "cell_type": "code",
   "execution_count": 1,
   "metadata": {},
   "outputs": [],
   "source": [
    "import numpy as np\n",
    "import os\n",
    "import sys"
   ]
  },
  {
   "cell_type": "markdown",
   "metadata": {},
   "source": [
    "# 0: Define prequisite functions"
   ]
  },
  {
   "cell_type": "code",
   "execution_count": 30,
   "metadata": {},
   "outputs": [],
   "source": [
    "######### define a helper function to read in a fasta file ############\n",
    "# this should store the sequences of the file in a dictionary\n",
    "\n",
    "def read_fasta(file):\n",
    "    with open(file, 'r') as f:\n",
    "        lines = f.readlines()\n",
    "    seqs = {}\n",
    "    for line in lines:\n",
    "        if line[0] == '>':\n",
    "            header = line.strip()\n",
    "            seqs[header] = ''\n",
    "        else:\n",
    "            seqs[header] += line.strip()\n",
    "    # make the sequences lowercase\n",
    "    for header, seq in seqs.items():\n",
    "        seqs[header] = seq.lower()\n",
    "    return seqs\n",
    "\n",
    "########### define function to read the Phylip-like control file ####\n",
    "# this will read in the score matrix, gap cost, and alphabet\n",
    "# the file will have the following format:\n",
    "#   4  #gap cost\n",
    "#   A  0  5  2  5 #alphabet[0], scoring matrix[0,:]\n",
    "#   C  5  0  5  2 #alphabet[1], scoring matrix[1,:]\n",
    "#   G  2  5  0  5 #alphabet[2], scoring matrix[2,:]\n",
    "#   T  5  2  5  0 #alphabet[3], scoring matrix[3,:]\n",
    "\n",
    "def read_control_file(file):\n",
    "    with open(file, 'r') as f:\n",
    "        lines = f.readlines()\n",
    "    # get the gap cost\n",
    "    gap_cost = int(lines[0].strip())\n",
    "    # get the alphabet\n",
    "    alphabet = []\n",
    "    # get the scoring matrix\n",
    "    scoring_matrix = []\n",
    "    for line in lines[1:]:\n",
    "        line = line.strip().split()\n",
    "        alphabet.append(line[0])\n",
    "        scoring_matrix.append([int(x) for x in line[1:]])\n",
    "    # make the alphabet lowercase\n",
    "    alphabet = [x.lower() for x in alphabet]\n",
    "    return gap_cost, alphabet, np.array(scoring_matrix)\n",
    "\n",
    "\n",
    "\n",
    "######## Cost function between two nucleotides #######################\n",
    "def cost(nuc1, nuc2, scoring_matrix, alphabet):\n",
    "#   will use this for indexing, so it's a list with the order of alphabet\n",
    "    nucleotides = alphabet\n",
    "    # nucleotides = ['a','c','g','t']\n",
    "#   set the scoring matrix the scoring matrix\n",
    "    scoring_matrix = scoring_matrix\n",
    "#   index into the scoring matrix based on the given nucleotides to get cost\n",
    "    return scoring_matrix[nucleotides.index(nuc1), nucleotides.index(nuc2)]\n",
    "\n",
    "######## define the optimality table function  #######################\n",
    "def optimal(A,B, scoring_matrix, gap_cost, alphabet):\n",
    "    # get table dimensions\n",
    "    n = len(A)\n",
    "    m = len(B)\n",
    "\n",
    "    # initialize the table\n",
    "    T = np.empty((n+1,m+1))\n",
    "    # set the 0th row and column to be NaN\n",
    "    T[:] = np.nan\n",
    "\n",
    "    # set the 0th column of T to be 0, -gapcost, -2*gapcost, ... -n*gapcost\n",
    "    # make it work for gapcost = 0\n",
    "    if gap_cost != 0:\n",
    "        # make a list of length n filled with 0, -gapcost, -2*gapcost, ... -n*gapcost\n",
    "        T[:,0] = [0 + gap_cost*i for i in range(n+1)]\n",
    "    else:\n",
    "        T[:,0] = np.zeros(n+1)\n",
    "\n",
    "    # set the 0th row of T to be 0, -gapcost, -2*gapcost, ... -n*gapcost\n",
    "    # make it work for gapcost = 0\n",
    "    if gap_cost != 0:\n",
    "        T[0,:] = [0 + gap_cost*i for i in range(m+1)]\n",
    "    else:\n",
    "        T[0,:] = np.zeros(m+1)\n",
    "\n",
    "    # fill out the table by choosing the maximum of the three options,\n",
    "    # a match/mismatch defined by cost(diagonal), \n",
    "    # a gap in A (up) defined by gap cost (-1)\n",
    "    # or a gap in B (left) defined by gap cost (-1)\n",
    "    for i in range(1,n+1):\n",
    "        for j in range(1,m+1):\n",
    "            T[i,j] = min(\n",
    "                T[i-1,j-1] + cost(A[i-1],B[j-1], scoring_matrix, alphabet), \n",
    "                T[i-1,j] + gap_cost, \n",
    "                T[i,j-1] + gap_cost \n",
    "            )\n",
    "    return T\n",
    "\n",
    "######## define the backtracking function  #######################\n",
    "def backtrack_one(A,B, scoring_matrix, gap_cost, alphabet):\n",
    "    align_A = ''\n",
    "    align_B = ''\n",
    "    i = len(A)\n",
    "    j = len(B)\n",
    "    T = optimal(A,B, scoring_matrix, gap_cost, alphabet)\n",
    "    # keep iterating while we haven't reached the end of either sequence\n",
    "    while i > 0 and j > 0:\n",
    "        # if the score in T came from a match/mismatch...\n",
    "        if T[i,j] == T[i-1,j-1] + cost(A[i-1],B[j-1], scoring_matrix, alphabet):\n",
    "            align_A = A[i-1] + align_A\n",
    "            align_B = B[j-1] + align_B\n",
    "            i -= 1\n",
    "            j -= 1\n",
    "        # if the score in T came from a gap in A...\n",
    "        elif T[i,j] == T[i-1,j] + gap_cost:\n",
    "            align_A = A[i-1] + align_A\n",
    "            align_B = '-' + align_B\n",
    "            i -= 1\n",
    "        # if the score in T came from a gap in B...\n",
    "        else:\n",
    "            align_A = '-' + align_A\n",
    "            align_B = B[j-1] + align_B\n",
    "            j -= 1\n",
    "    return (align_A, align_B, T)"
   ]
  },
  {
   "cell_type": "markdown",
   "metadata": {},
   "source": [
    "# 0.5: Read in the sequences"
   ]
  },
  {
   "cell_type": "code",
   "execution_count": 90,
   "metadata": {},
   "outputs": [
    {
     "name": "stdout",
     "output_type": "stream",
     "text": [
      "{'>seq1_80': 'ttaacccgtagttgctcttcctccggcgcctgctggcgttctccttttatactcgctcgccgcgagtccctctgctaaaa', '>seq2_80': 'ttggcttcccagtcacccaaaagtcgactcatatcagagaagagtgcaggctcagcgataatgtgatttgtccgtgctct', '>seq3_80': 'gaaggcgtatctacatatagctggcattttgtatgtccttgctaaacagcgagccgacatccagcctcctcgcggtgcct'}\n"
     ]
    }
   ],
   "source": [
    "seqs = read_fasta('../testseqs/testseqs_80_3.fasta')\n",
    "print(seqs)"
   ]
  },
  {
   "cell_type": "markdown",
   "metadata": {},
   "source": [
    "# 1: Choose the center string"
   ]
  },
  {
   "cell_type": "code",
   "execution_count": 94,
   "metadata": {},
   "outputs": [],
   "source": [
    "# get optimal costs between all pairs of sequences, return the sequence that is on average closest to the others\n",
    "def get_center_string(seqs):\n",
    "    center_string = None\n",
    "    # get the optimal costs between all pairs of sequences (not including self)\n",
    "    # store the seqence key with the lowest average cost\n",
    "    lowest_avg_cost = np.inf\n",
    "    for key1 in seqs:\n",
    "        total_cost = 0\n",
    "        for key2 in seqs:\n",
    "            if key1 != key2:\n",
    "                A = seqs[key1]\n",
    "                B = seqs[key2]\n",
    "                gap_cost, alphabet, scoring_matrix = read_control_file('/Users/chcharlton/Aarhus/Spring24/AiB/AiB2024/project3/chcharlton/control.txt')\n",
    "                T = optimal(A,B, scoring_matrix, gap_cost, alphabet)\n",
    "                total_cost += T[-1,-1]\n",
    "        avg_cost = total_cost / (len(seqs)-1)\n",
    "        if avg_cost < lowest_avg_cost:\n",
    "            lowest_avg_cost = avg_cost\n",
    "            center_string = key1\n",
    "    return center_string\n",
    "\n",
    "    \n"
   ]
  },
  {
   "cell_type": "code",
   "execution_count": 96,
   "metadata": {},
   "outputs": [
    {
     "data": {
      "text/plain": [
       "'>seq3_80'"
      ]
     },
     "execution_count": 96,
     "metadata": {},
     "output_type": "execute_result"
    }
   ],
   "source": [
    "get_center_string(seqs)"
   ]
  },
  {
   "cell_type": "markdown",
   "metadata": {},
   "source": [
    "# 2: Generate all of the pairwise alignments"
   ]
  },
  {
   "cell_type": "code",
   "execution_count": 97,
   "metadata": {},
   "outputs": [],
   "source": [
    "# define function to generate alignemtns between a center string and all other sequences except itself\n",
    "# this will depend on the optimal function and the backtrack_one function\n",
    "def generate_alignments(seqs, center_string):\n",
    "    alignments = {}\n",
    "    gap_cost, alphabet, scoring_matrix = read_control_file('/Users/chcharlton/Aarhus/Spring24/AiB/AiB2024/project3/chcharlton/control.txt')\n",
    "    for key in seqs:\n",
    "        if key != center_string:\n",
    "            A = seqs[center_string]\n",
    "            B = seqs[key]\n",
    "            align_a, align_b, T = backtrack_one(A, B, scoring_matrix, gap_cost, alphabet)\n",
    "            # store the alignments in a dictionary where each value is a numpy array of \n",
    "            # the split up strings of the alignments\n",
    "            alignments[key] = np.array([list(align_a), list(align_b)])\n",
    "    return alignments\n",
    "    \n"
   ]
  },
  {
   "cell_type": "code",
   "execution_count": 98,
   "metadata": {},
   "outputs": [
    {
     "data": {
      "text/plain": [
       "{'>seq1_80': 'ttaacccgtagttgctcttcctccggcgcctgctggcgttctccttttatactcgctcgccgcgagtccctctgctaaaa',\n",
       " '>seq2_80': 'ttggcttcccagtcacccaaaagtcgactcatatcagagaagagtgcaggctcagcgataatgtgatttgtccgtgctct',\n",
       " '>seq3_80': 'gaaggcgtatctacatatagctggcattttgtatgtccttgctaaacagcgagccgacatccagcctcctcgcggtgcct'}"
      ]
     },
     "execution_count": 98,
     "metadata": {},
     "output_type": "execute_result"
    }
   ],
   "source": [
    "seqs"
   ]
  },
  {
   "cell_type": "code",
   "execution_count": 100,
   "metadata": {},
   "outputs": [
    {
     "data": {
      "text/plain": [
       "{'>seq1_80': array([['g', 'a', 'a', 'g', 'g', 'c', 'g', 't', 'a', 't', 'c', 't', 'a',\n",
       "         'c', '-', 'a', 't', 'a', 't', 'a', 'g', 'c', 't', 'g', 'g', 'c',\n",
       "         'a', '-', 't', 't', '-', 't', 't', 'g', 't', 'a', 't', 'g', 't',\n",
       "         'c', 'c', 't', 't', 'g', 'c', 't', 'a', 'a', 'a', 'c', 'a', 'g',\n",
       "         'c', 'g', 'a', 'g', 'c', '-', 'c', 'g', 'a', 'c', 'a', 't', 'c',\n",
       "         'c', 'a', 'g', 'c', 'c', 't', 'c', 'c', 't', 'c', 'g', 'c', 'g',\n",
       "         'g', 't', 'g', 'c', 'c', 't'],\n",
       "        ['t', 'a', 'a', 'c', 'c', 'c', 'g', 't', 'a', 'g', 't', 't', 'g',\n",
       "         'c', 't', 'c', 't', 't', 'c', 'c', 't', 'c', 'c', 'g', 'g', 'c',\n",
       "         'g', 'c', 'c', 't', 'g', 'c', 't', 'g', '-', 'g', 'c', 'g', 't',\n",
       "         't', 'c', 't', 'c', 'c', 't', 't', 't', 't', 'a', 't', 'a', '-',\n",
       "         'c', 't', 'c', 'g', 'c', 't', 'c', 'g', 'c', 'c', 'g', '-', 'c',\n",
       "         'g', 'a', 'g', 't', 'c', '-', 'c', 'c', 't', 'c', '-', 't', 'g',\n",
       "         'c', 't', 'a', 'a', 'a', 'a']], dtype='<U1'),\n",
       " '>seq2_80': array([['a', 'a', 'g', 'g', 'c', 'g', 't', 'a', 't', 'c', 't', 'a', 'c',\n",
       "         'a', 't', 'a', 't', 'a', 'g', 'c', 't', 'g', 'g', 'c', 'a', 't',\n",
       "         't', 't', 't', 'g', '-', 't', '-', 'a', 't', 'g', 't', 'c', 'c',\n",
       "         't', 't', 'g', 'c', 't', 'a', 'a', 'a', 'c', 'a', 'g', 'c', 'g',\n",
       "         'a', 'g', 'c', '-', 'c', 'g', 'a', 'c', 'a', 't', 'c', 'c', 'a',\n",
       "         'g', 'c', 'c', 't', '-', 'c', 'c', 't', 'c', 'g', '-', 'c', 'g',\n",
       "         'g', 't', 'g', 'c', '-', 'c', 't'],\n",
       "        ['t', 't', 'g', 'g', 'c', '-', 't', 't', 'c', 'c', 'c', 'a', '-',\n",
       "         'g', 't', '-', 'c', 'a', 'c', 'c', 'c', 'a', 'a', 'a', 'a', 'g',\n",
       "         't', 'c', 'g', 'a', 'c', 't', 'c', 'a', 't', 'a', 't', 'c', 'a',\n",
       "         'g', 'a', 'g', 'a', 'a', 'g', 'a', 'g', 't', '-', 'g', 'c', 'a',\n",
       "         'g', 'g', 'c', 't', 'c', 'a', 'g', 'c', 'g', '-', 'a', 't', 'a',\n",
       "         'a', 't', 'g', 't', 'g', 'a', 't', 't', 't', 'g', 't', 'c', 'c',\n",
       "         'g', 't', 'g', 'c', 't', 'c', 't']], dtype='<U1')}"
      ]
     },
     "execution_count": 100,
     "metadata": {},
     "output_type": "execute_result"
    }
   ],
   "source": [
    "generate_alignments(seqs, '>seq3_80')"
   ]
  },
  {
   "cell_type": "markdown",
   "metadata": {},
   "source": [
    "# 3: Merge the pairwise alignments "
   ]
  },
  {
   "cell_type": "code",
   "execution_count": 113,
   "metadata": {},
   "outputs": [],
   "source": [
    "# Takes a multiple alignment (M) and a pairwise alignemnt (A) and returns a new multiple alignment (MA)\n",
    "def extend_msa(M, A):\n",
    "    MA = np.empty((np.shape(M)[0]+1,0), str)\n",
    "    i, j = 0, 0\n",
    "    while i < np.shape(M)[1] and j < np.shape(A)[1]:\n",
    "        if M[0][i] != '-' and A[0][j] != '-':\n",
    "            MA = np.append(MA, np.append(M[:,i], A[-1,j])[:,None], axis=1)\n",
    "            # increment both i and j because we are consuming information from both M and A\n",
    "            i += 1\n",
    "            j += 1\n",
    "        elif M[0][i] == '-' and A[0][j] != '-':\n",
    "            MA = np.append(MA, np.append(M[:,i], '-')[:, None], axis=1)\n",
    "            # increment i but not j because we are consuming no information from A\n",
    "            i += 1\n",
    "        elif M[0][i] != '-' and A[0][j] == '-':\n",
    "            MA = np.append(MA, np.append(np.array(['-']*np.shape(M)[0]), A[-1,j])[:, None], axis=1)\n",
    "            # increment j but not i because we are consuming no information from M\n",
    "            j += 1\n",
    "        elif M[0][i] == '-' and A[0][j] == '-':\n",
    "            MA = np.append(MA, np.append(M[:,i], '-')[:, None], axis=1)\n",
    "            # increment i but not j because we are consuming no information from A\n",
    "            i += 1\n",
    "        \n",
    "    if i < np.shape(M)[1]:\n",
    "    #     MA = np.append(MA, np.append(M[:,i:], np.array(['-']*np.shape(A)[0])[:, None], axis=1), axis=1)\n",
    "        print(i, np.shape(M)[1])\n",
    "    if j < np.shape(A)[1]:\n",
    "        print(j, np.shape(A)[1])\n",
    "    #     MA = np.append(MA, np.append(np.array(['-']*np.shape(M)[0]), A[-1,j:], axis=1), axis=1)\n",
    "    return MA"
   ]
  },
  {
   "cell_type": "code",
   "execution_count": 102,
   "metadata": {},
   "outputs": [],
   "source": [
    "# define a function that takes a dictionary of alignments and returns a multiple alignment\n",
    "# should use the extend_msa function\n",
    "def get_msa(alignments):\n",
    "    # get the first alignment\n",
    "    M = alignments[list(alignments.keys())[0]]\n",
    "    # iterate over the rest of the alignments and extend the multiple alignment\n",
    "    for key in list(alignments.keys())[1:]:\n",
    "        A = alignments[key]\n",
    "        M = extend_msa(M, A)\n",
    "    return M"
   ]
  },
  {
   "cell_type": "code",
   "execution_count": 104,
   "metadata": {},
   "outputs": [
    {
     "name": "stdout",
     "output_type": "stream",
     "text": [
      "(2, 84)\n",
      "(2, 85)\n"
     ]
    }
   ],
   "source": [
    "# test the get_msa function\n",
    "alignments = generate_alignments(seqs, '>seq3_80')\n",
    "for key, value in alignments.items():\n",
    "    print(value.shape)"
   ]
  },
  {
   "cell_type": "code",
   "execution_count": 105,
   "metadata": {},
   "outputs": [
    {
     "ename": "ValueError",
     "evalue": "all the input array dimensions except for the concatenation axis must match exactly, but along dimension 0, the array at index 0 has size 3 and the array at index 1 has size 2",
     "output_type": "error",
     "traceback": [
      "\u001b[0;31m---------------------------------------------------------------------------\u001b[0m",
      "\u001b[0;31mValueError\u001b[0m                                Traceback (most recent call last)",
      "Cell \u001b[0;32mIn[105], line 1\u001b[0m\n\u001b[0;32m----> 1\u001b[0m \u001b[43mget_msa\u001b[49m\u001b[43m(\u001b[49m\u001b[43malignments\u001b[49m\u001b[43m)\u001b[49m\n",
      "Cell \u001b[0;32mIn[102], line 9\u001b[0m, in \u001b[0;36mget_msa\u001b[0;34m(alignments)\u001b[0m\n\u001b[1;32m      7\u001b[0m \u001b[38;5;28;01mfor\u001b[39;00m key \u001b[38;5;129;01min\u001b[39;00m \u001b[38;5;28mlist\u001b[39m(alignments\u001b[38;5;241m.\u001b[39mkeys())[\u001b[38;5;241m1\u001b[39m:]:\n\u001b[1;32m      8\u001b[0m     A \u001b[38;5;241m=\u001b[39m alignments[key]\n\u001b[0;32m----> 9\u001b[0m     M \u001b[38;5;241m=\u001b[39m \u001b[43mextend_msa\u001b[49m\u001b[43m(\u001b[49m\u001b[43mM\u001b[49m\u001b[43m,\u001b[49m\u001b[43m \u001b[49m\u001b[43mA\u001b[49m\u001b[43m)\u001b[49m\n\u001b[1;32m     10\u001b[0m \u001b[38;5;28;01mreturn\u001b[39;00m M\n",
      "Cell \u001b[0;32mIn[101], line 24\u001b[0m, in \u001b[0;36mextend_msa\u001b[0;34m(M, A)\u001b[0m\n\u001b[1;32m     22\u001b[0m         i \u001b[38;5;241m+\u001b[39m\u001b[38;5;241m=\u001b[39m \u001b[38;5;241m1\u001b[39m\n\u001b[1;32m     23\u001b[0m \u001b[38;5;28;01mif\u001b[39;00m i \u001b[38;5;241m<\u001b[39m np\u001b[38;5;241m.\u001b[39mshape(M)[\u001b[38;5;241m1\u001b[39m]:\n\u001b[0;32m---> 24\u001b[0m     MA \u001b[38;5;241m=\u001b[39m \u001b[43mnp\u001b[49m\u001b[38;5;241;43m.\u001b[39;49m\u001b[43mappend\u001b[49m\u001b[43m(\u001b[49m\u001b[43mMA\u001b[49m\u001b[43m,\u001b[49m\u001b[43m \u001b[49m\u001b[43mnp\u001b[49m\u001b[38;5;241;43m.\u001b[39;49m\u001b[43mappend\u001b[49m\u001b[43m(\u001b[49m\u001b[43mM\u001b[49m\u001b[43m[\u001b[49m\u001b[43m:\u001b[49m\u001b[43m,\u001b[49m\u001b[43mi\u001b[49m\u001b[43m:\u001b[49m\u001b[43m]\u001b[49m\u001b[43m,\u001b[49m\u001b[43m \u001b[49m\u001b[43mnp\u001b[49m\u001b[38;5;241;43m.\u001b[39;49m\u001b[43marray\u001b[49m\u001b[43m(\u001b[49m\u001b[43m[\u001b[49m\u001b[38;5;124;43m'\u001b[39;49m\u001b[38;5;124;43m-\u001b[39;49m\u001b[38;5;124;43m'\u001b[39;49m\u001b[43m]\u001b[49m\u001b[38;5;241;43m*\u001b[39;49m\u001b[43mnp\u001b[49m\u001b[38;5;241;43m.\u001b[39;49m\u001b[43mshape\u001b[49m\u001b[43m(\u001b[49m\u001b[43mA\u001b[49m\u001b[43m)\u001b[49m\u001b[43m[\u001b[49m\u001b[38;5;241;43m0\u001b[39;49m\u001b[43m]\u001b[49m\u001b[43m)\u001b[49m\u001b[43m[\u001b[49m\u001b[43m:\u001b[49m\u001b[43m,\u001b[49m\u001b[43m \u001b[49m\u001b[38;5;28;43;01mNone\u001b[39;49;00m\u001b[43m]\u001b[49m\u001b[43m,\u001b[49m\u001b[43m \u001b[49m\u001b[43maxis\u001b[49m\u001b[38;5;241;43m=\u001b[39;49m\u001b[38;5;241;43m1\u001b[39;49m\u001b[43m)\u001b[49m\u001b[43m,\u001b[49m\u001b[43m \u001b[49m\u001b[43maxis\u001b[49m\u001b[38;5;241;43m=\u001b[39;49m\u001b[38;5;241;43m1\u001b[39;49m\u001b[43m)\u001b[49m\n\u001b[1;32m     25\u001b[0m \u001b[38;5;28;01mif\u001b[39;00m j \u001b[38;5;241m<\u001b[39m np\u001b[38;5;241m.\u001b[39mshape(A)[\u001b[38;5;241m1\u001b[39m]:\n\u001b[1;32m     26\u001b[0m     MA \u001b[38;5;241m=\u001b[39m np\u001b[38;5;241m.\u001b[39mappend(MA, np\u001b[38;5;241m.\u001b[39mappend(np\u001b[38;5;241m.\u001b[39marray([\u001b[38;5;124m'\u001b[39m\u001b[38;5;124m-\u001b[39m\u001b[38;5;124m'\u001b[39m]\u001b[38;5;241m*\u001b[39mnp\u001b[38;5;241m.\u001b[39mshape(M)[\u001b[38;5;241m0\u001b[39m]), A[\u001b[38;5;241m-\u001b[39m\u001b[38;5;241m1\u001b[39m,j:], axis\u001b[38;5;241m=\u001b[39m\u001b[38;5;241m1\u001b[39m), axis\u001b[38;5;241m=\u001b[39m\u001b[38;5;241m1\u001b[39m)\n",
      "File \u001b[0;32m~/opt/anaconda3/envs/aib/lib/python3.12/site-packages/numpy/lib/function_base.py:5617\u001b[0m, in \u001b[0;36mappend\u001b[0;34m(arr, values, axis)\u001b[0m\n\u001b[1;32m   5615\u001b[0m     values \u001b[38;5;241m=\u001b[39m ravel(values)\n\u001b[1;32m   5616\u001b[0m     axis \u001b[38;5;241m=\u001b[39m arr\u001b[38;5;241m.\u001b[39mndim\u001b[38;5;241m-\u001b[39m\u001b[38;5;241m1\u001b[39m\n\u001b[0;32m-> 5617\u001b[0m \u001b[38;5;28;01mreturn\u001b[39;00m \u001b[43mconcatenate\u001b[49m\u001b[43m(\u001b[49m\u001b[43m(\u001b[49m\u001b[43marr\u001b[49m\u001b[43m,\u001b[49m\u001b[43m \u001b[49m\u001b[43mvalues\u001b[49m\u001b[43m)\u001b[49m\u001b[43m,\u001b[49m\u001b[43m \u001b[49m\u001b[43maxis\u001b[49m\u001b[38;5;241;43m=\u001b[39;49m\u001b[43maxis\u001b[49m\u001b[43m)\u001b[49m\n",
      "\u001b[0;31mValueError\u001b[0m: all the input array dimensions except for the concatenation axis must match exactly, but along dimension 0, the array at index 0 has size 3 and the array at index 1 has size 2"
     ]
    }
   ],
   "source": [
    "get_msa(alignments)\n"
   ]
  },
  {
   "cell_type": "code",
   "execution_count": 114,
   "metadata": {},
   "outputs": [
    {
     "name": "stdout",
     "output_type": "stream",
     "text": [
      "83 84\n"
     ]
    },
    {
     "data": {
      "text/plain": [
       "array([['a', 'a', 'g', 'g', 'c', 'g', 't', 'a', 't', 'c', 't', 'a', 'c',\n",
       "        'a', '-', 't', 'a', 't', 'a', 'g', 'c', 't', 'g', 'g', 'c', 'a',\n",
       "        't', '-', 't', 't', '-', 't', 'g', '-', 't', '-', 'a', 't', 'g',\n",
       "        't', 'c', 'c', 't', 't', 'g', 'c', 't', 'a', 'a', 'a', 'c', 'a',\n",
       "        'g', 'c', 'g', 'a', 'g', 'c', '-', 'c', '-', 'g', 'a', 'c', 'a',\n",
       "        't', 'c', 'c', 'a', 'g', 'c', 'c', 't', '-', 'c', 'c', 't', 'c',\n",
       "        'g', '-', 'c', 'g', 'g', 't', 'g', 'c', '-', 'c', 't'],\n",
       "       ['t', 't', 'g', 'g', 'c', '-', 't', 't', 'c', 'c', 'c', 'a', '-',\n",
       "        'g', '-', 't', '-', 'c', 'a', 'c', 'c', 'c', 'a', 'a', 'a', 'a',\n",
       "        'g', '-', 't', 'c', '-', 'g', 'a', 'c', 't', 'c', 'a', 't', 'a',\n",
       "        't', 'c', 'a', 'g', 'a', 'g', 'a', 'a', 'g', 'a', 'g', 't', '-',\n",
       "        'g', 'c', 'a', 'g', 'g', 'c', 't', 'c', '-', 'a', 'g', 'c', 'g',\n",
       "        '-', 'a', 't', 'a', 'a', 't', 'g', 't', 'g', 'a', 't', 't', 't',\n",
       "        'g', 't', 'c', 'c', 'g', 't', 'g', 'c', 't', 'c', 't'],\n",
       "       ['t', 'a', 'a', 'c', 'c', 'c', 'g', 't', 'a', 'g', 't', 't', 'g',\n",
       "        'c', 't', 'c', 't', 't', 'c', 'c', 't', 'c', 'c', 'g', 'g', 'c',\n",
       "        'g', 'c', 'c', 't', 'g', 'c', 't', '-', 'g', '-', '-', 'g', 'c',\n",
       "        'g', 't', 't', 'c', 't', 'c', 'c', 't', 't', 't', 't', 'a', 't',\n",
       "        'a', '-', 'c', 't', 'c', 'g', '-', 'c', 't', 'c', 'g', 'c', 'c',\n",
       "        'g', '-', 'c', 'g', 'a', 'g', 't', 'c', '-', '-', 'c', 'c', 't',\n",
       "        'c', '-', '-', 't', 'g', 'c', 't', 'a', '-', 'a', 'a']],\n",
       "      dtype='<U1')"
      ]
     },
     "execution_count": 114,
     "metadata": {},
     "output_type": "execute_result"
    }
   ],
   "source": [
    "# test the extend_msa function\n",
    "A = alignments['>seq1_80']\n",
    "M = alignments['>seq2_80']\n",
    "# print(len(M))\n",
    "# print(len(A))\n",
    "extend_msa(M, A)"
   ]
  },
  {
   "cell_type": "code",
   "execution_count": null,
   "metadata": {},
   "outputs": [],
   "source": []
  }
 ],
 "metadata": {
  "kernelspec": {
   "display_name": "aib",
   "language": "python",
   "name": "python3"
  },
  "language_info": {
   "codemirror_mode": {
    "name": "ipython",
    "version": 3
   },
   "file_extension": ".py",
   "mimetype": "text/x-python",
   "name": "python",
   "nbconvert_exporter": "python",
   "pygments_lexer": "ipython3",
   "version": "3.12.1"
  }
 },
 "nbformat": 4,
 "nbformat_minor": 2
}

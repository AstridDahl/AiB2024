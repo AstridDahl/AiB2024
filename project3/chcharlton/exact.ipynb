{
 "cells": [
  {
   "cell_type": "code",
   "execution_count": null,
   "metadata": {},
   "outputs": [],
   "source": [
    "# given n DNA sequences, make an alignment of them\n",
    "# and output the alignment in fasta format"
   ]
  },
  {
   "cell_type": "code",
   "execution_count": 2,
   "metadata": {},
   "outputs": [],
   "source": [
    "import numpy as np\n",
    "########### to read in the sequences from a fasta file ##############\n",
    "def read_fasta(file):\n",
    "    with open(file, 'r') as f:\n",
    "        lines = f.readlines()\n",
    "    seqs = {}\n",
    "    for line in lines:\n",
    "        if line[0] == '>':\n",
    "            header = line.strip()\n",
    "            seqs[header] = ''\n",
    "        else:\n",
    "            seqs[header] += line.strip()\n",
    "    # make the sequences lowercase\n",
    "    for header, seq in seqs.items():\n",
    "        seqs[header] = seq.lower()\n",
    "    return seqs\n",
    "\n",
    "########### define function to read the Phylip-like control file ####\n",
    "# this will read in the score matrix, gap cost, and alphabet\n",
    "# the file will have the following format:\n",
    "#   4  #gap cost\n",
    "#   A  0  5  2  5 #alphabet[0], scoring matrix[0,:]\n",
    "#   C  5  0  5  2 #alphabet[1], scoring matrix[1,:]\n",
    "#   G  2  5  0  5 #alphabet[2], scoring matrix[2,:]\n",
    "#   T  5  2  5  0 #alphabet[3], scoring matrix[3,:]\n",
    "\n",
    "def read_control_file(file):\n",
    "    with open(file, 'r') as f:\n",
    "        lines = f.readlines()\n",
    "    # get the gap cost\n",
    "    gap_cost = int(lines[0].strip())\n",
    "    # get the alphabet\n",
    "    alphabet = []\n",
    "    # get the scoring matrix\n",
    "    scoring_matrix = []\n",
    "    for line in lines[1:]:\n",
    "        line = line.strip().split()\n",
    "        alphabet.append(line[0])\n",
    "        scoring_matrix.append([int(x) for x in line[1:]])\n",
    "    # make the alphabet lowercase\n",
    "    alphabet = [x.lower() for x in alphabet]\n",
    "    return gap_cost, alphabet, np.array(scoring_matrix)\n",
    "\n",
    "\n",
    "\n",
    "######## Cost function between two nucleotides #######################\n",
    "def cost(nuc1, nuc2, scoring_matrix, alphabet):\n",
    "#   will use this for indexing, so it's a list with the order of alphabet\n",
    "    nucleotides = alphabet\n",
    "    # nucleotides = ['a','c','g','t']\n",
    "#   set the scoring matrix the scoring matrix\n",
    "    scoring_matrix = scoring_matrix\n",
    "#   index into the scoring matrix based on the given nucleotides to get cost\n",
    "    return scoring_matrix[nucleotides.index(nuc1), nucleotides.index(nuc2)]"
   ]
  },
  {
   "cell_type": "code",
   "execution_count": 4,
   "metadata": {},
   "outputs": [],
   "source": [
    "test_seqs = read_fasta('test_seqs.fasta')\n",
    "gap_cost, alphabet, scoring_matrix = read_control_file('control.txt')"
   ]
  },
  {
   "cell_type": "code",
   "execution_count": 36,
   "metadata": {},
   "outputs": [],
   "source": [
    "#  define the function to make the alignment\n",
    "# it will fillout a l x m x n matrix\n",
    "# where l is the length of seq1, m is the length of seq2, and n is the length of seq3\n",
    "# the matrix will be filled out with the cost of aligning the sequences, checking each of the possible 7 \n",
    "# neighbors to find the minimum cost\n",
    "def align(seqs, scoring_matrix, alphabet, gap_cost):\n",
    "    # get the sequences\n",
    "    seqs = list(seqs.values())\n",
    "    # get the lengths of the sequences\n",
    "    l = len(seqs[0])\n",
    "    m = len(seqs[1])\n",
    "    n = len(seqs[2])\n",
    "    # initialize the matrix\n",
    "    matrix = np.zeros((l+1, m+1, n+1))\n",
    "    # the first row and column will be the gap cost\n",
    "    for i in range(l+1):\n",
    "        matrix[i,0,0] = 2*gap_cost*i\n",
    "    for j in range(m+1):\n",
    "        matrix[0,j,0] = 2*gap_cost*j\n",
    "    for k in range(n+1):\n",
    "        matrix[0,0,k] = 2*gap_cost*k\n",
    "    # fill out the matrix by looking at the 7 neighbors and filling the current cell with the minimum cost\n",
    "    for i in range(1, l+1):\n",
    "        for j in range(1, m+1):\n",
    "            for k in range(1, n+1):\n",
    "                # get the costs of the 7 neighbors\n",
    "                cost1 = matrix[i-1,j-1,k-1] \\\n",
    "                    + cost(seqs[0][i-1], seqs[1][j-1], scoring_matrix, alphabet) \\\n",
    "                    + cost(seqs[0][i-1], seqs[2][k-1], scoring_matrix, alphabet) \\\n",
    "                    + cost(seqs[1][j-1], seqs[2][k-1], scoring_matrix, alphabet)\n",
    "                cost2 = matrix[i-1,j-1,k] + 2 * gap_cost \\\n",
    "                    + cost(seqs[0][i-1], seqs[1][j-1], scoring_matrix, alphabet)\n",
    "                cost3 = matrix[i-1,j,k-1] + 2 * gap_cost \\\n",
    "                    + cost(seqs[0][i-1], seqs[2][k-1], scoring_matrix, alphabet)\n",
    "                cost4 = matrix[i,j-1,k-1] + 2 * gap_cost \\\n",
    "                    + cost(seqs[1][j-1], seqs[2][k-1], scoring_matrix, alphabet)\n",
    "                cost5 = matrix[i-1,j,k] + 2 * gap_cost \n",
    "                cost6 = matrix[i,j-1,k] + 2 * gap_cost \n",
    "                cost7 = matrix[i,j,k-1] + 2 * gap_cost \n",
    "                # fill the current cell with the minimum cost\n",
    "                matrix[i,j,k] = min(cost1, cost2, cost3, cost4, cost5, cost6, cost7)\n",
    "    return matrix\n",
    "                        \n"
   ]
  },
  {
   "cell_type": "code",
   "execution_count": 37,
   "metadata": {},
   "outputs": [
    {
     "name": "stdout",
     "output_type": "stream",
     "text": [
      "[[[ 0. 10. 20. 30. 40. 50.]\n",
      "  [10.  0.  0.  0.  0.  0.]\n",
      "  [20.  0.  0.  0.  0.  0.]\n",
      "  [30.  0.  0.  0.  0.  0.]\n",
      "  [40.  0.  0.  0.  0.  0.]]\n",
      "\n",
      " [[10.  0.  0.  0.  0.  0.]\n",
      "  [ 0.  0. 10. 10. 10. 10.]\n",
      "  [ 0. 10. 10.  4. 10.  0.]\n",
      "  [ 0. 10. 10.  4. 10.  4.]\n",
      "  [ 0. 10. 10.  4. 10.  4.]]\n",
      "\n",
      " [[20.  0.  0.  0.  0.  0.]\n",
      "  [ 0. 10. 10.  4. 10.  0.]\n",
      "  [ 0.  0. 10. 14. 19. 10.]\n",
      "  [ 0.  4. 14. 14. 16. 12.]\n",
      "  [ 0.  4. 14. 14. 16. 14.]]\n",
      "\n",
      " [[30.  0.  0.  0.  0.  0.]\n",
      "  [ 0. 10. 10. 10. 10. 10.]\n",
      "  [ 0. 10. 12. 19. 14. 15.]\n",
      "  [ 0. 10. 12. 20. 24. 22.]\n",
      "  [ 0. 10. 16. 22. 24. 24.]]\n",
      "\n",
      " [[40.  0.  0.  0.  0.  0.]\n",
      "  [ 0. 10. 10.  4. 10.  0.]\n",
      "  [ 0.  0. 10. 14. 19. 10.]\n",
      "  [ 0.  4. 14. 16. 26. 18.]\n",
      "  [ 0.  4. 14. 16. 26. 28.]]\n",
      "\n",
      " [[50.  0.  0.  0.  0.  0.]\n",
      "  [ 0. 10. 10.  4. 10.  0.]\n",
      "  [ 0.  0. 10. 14. 14. 10.]\n",
      "  [ 0.  4. 12. 14. 24. 20.]\n",
      "  [ 0.  4. 14. 18. 28. 30.]]\n",
      "\n",
      " [[60.  0.  0.  0.  0.  0.]\n",
      "  [ 0. 10. 10. 10. 10. 10.]\n",
      "  [ 0. 10. 12. 19. 14. 15.]\n",
      "  [ 0. 10. 12. 20. 24. 25.]\n",
      "  [ 0. 10. 16. 22. 24. 34.]]]\n"
     ]
    }
   ],
   "source": [
    "costs = align(test_seqs, scoring_matrix, alphabet, gap_cost)\n",
    "print(costs)"
   ]
  },
  {
   "cell_type": "code",
   "execution_count": null,
   "metadata": {},
   "outputs": [],
   "source": [
    "# define the function to trace back through the matrix to get the alignment\n"
   ]
  },
  {
   "cell_type": "code",
   "execution_count": 24,
   "metadata": {},
   "outputs": [],
   "source": [
    "# trace_back(costs, test_seqs, scoring_matrix, alphabet, gap_cost)"
   ]
  }
 ],
 "metadata": {
  "kernelspec": {
   "display_name": "aib",
   "language": "python",
   "name": "python3"
  },
  "language_info": {
   "codemirror_mode": {
    "name": "ipython",
    "version": 3
   },
   "file_extension": ".py",
   "mimetype": "text/x-python",
   "name": "python",
   "nbconvert_exporter": "python",
   "pygments_lexer": "ipython3",
   "version": "3.12.1"
  }
 },
 "nbformat": 4,
 "nbformat_minor": 2
}
